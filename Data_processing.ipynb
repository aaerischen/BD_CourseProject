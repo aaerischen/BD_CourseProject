{
  "cells": [
    {
      "cell_type": "code",
      "execution_count": null,
      "metadata": {
        "id": "kgBGkmBd6VRM",
        "colab": {
          "base_uri": "https://localhost:8080/"
        },
        "outputId": "cfedf39f-7413-4258-bfb1-db42da590f3e"
      },
      "outputs": [
        {
          "output_type": "stream",
          "name": "stdout",
          "text": [
            "\u001b[?25l     \u001b[90m━━━━━━━━━━━━━━━━━━━━━━━━━━━━━━━━━━━━━━━━\u001b[0m \u001b[32m0.0/55.5 kB\u001b[0m \u001b[31m?\u001b[0m eta \u001b[36m-:--:--\u001b[0m\r\u001b[2K     \u001b[90m━━━━━━━━━━━━━━━━━━━━━━━━━━━━━━━━━━━━━━━━\u001b[0m \u001b[32m55.5/55.5 kB\u001b[0m \u001b[31m2.4 MB/s\u001b[0m eta \u001b[36m0:00:00\u001b[0m\n",
            "\u001b[2K     \u001b[90m━━━━━━━━━━━━━━━━━━━━━━━━━━━━━━━━━━━━━━━\u001b[0m \u001b[32m103.3/103.3 kB\u001b[0m \u001b[31m5.0 MB/s\u001b[0m eta \u001b[36m0:00:00\u001b[0m\n",
            "\u001b[2K     \u001b[90m━━━━━━━━━━━━━━━━━━━━━━━━━━━━━━━━━━━━━━━━\u001b[0m \u001b[32m7.2/7.2 MB\u001b[0m \u001b[31m64.3 MB/s\u001b[0m eta \u001b[36m0:00:00\u001b[0m\n",
            "\u001b[2K     \u001b[90m━━━━━━━━━━━━━━━━━━━━━━━━━━━━━━━━━━━━━━━\u001b[0m \u001b[32m310.8/310.8 MB\u001b[0m \u001b[31m3.8 MB/s\u001b[0m eta \u001b[36m0:00:00\u001b[0m\n",
            "\u001b[?25h  Preparing metadata (setup.py) ... \u001b[?25l\u001b[?25hdone\n",
            "\u001b[2K     \u001b[90m━━━━━━━━━━━━━━━━━━━━━━━━━━━━━━━━━━━━━━━━\u001b[0m \u001b[32m8.2/8.2 MB\u001b[0m \u001b[31m59.2 MB/s\u001b[0m eta \u001b[36m0:00:00\u001b[0m\n",
            "\u001b[?25h  Preparing metadata (setup.py) ... \u001b[?25l\u001b[?25hdone\n",
            "\u001b[2K     \u001b[90m━━━━━━━━━━━━━━━━━━━━━━━━━━━━━━━━━━━━━━━━\u001b[0m \u001b[32m68.8/68.8 kB\u001b[0m \u001b[31m5.4 MB/s\u001b[0m eta \u001b[36m0:00:00\u001b[0m\n",
            "\u001b[?25h  Preparing metadata (setup.py) ... \u001b[?25l\u001b[?25hdone\n",
            "\u001b[2K     \u001b[90m━━━━━━━━━━━━━━━━━━━━━━━━━━━━━━━━━━━━━━\u001b[0m \u001b[32m236.8/236.8 kB\u001b[0m \u001b[31m20.6 MB/s\u001b[0m eta \u001b[36m0:00:00\u001b[0m\n",
            "\u001b[2K     \u001b[90m━━━━━━━━━━━━━━━━━━━━━━━━━━━━━━━━━━━━━━━━\u001b[0m \u001b[32m7.8/7.8 MB\u001b[0m \u001b[31m93.3 MB/s\u001b[0m eta \u001b[36m0:00:00\u001b[0m\n",
            "\u001b[2K     \u001b[90m━━━━━━━━━━━━━━━━━━━━━━━━━━━━━━━━━━━━━━━━\u001b[0m \u001b[32m1.3/1.3 MB\u001b[0m \u001b[31m70.7 MB/s\u001b[0m eta \u001b[36m0:00:00\u001b[0m\n",
            "\u001b[?25h  Building wheel for fasttext (setup.py) ... \u001b[?25l\u001b[?25hdone\n",
            "  Building wheel for pyspark (setup.py) ... \u001b[?25l\u001b[?25hdone\n",
            "  Building wheel for docopt (setup.py) ... \u001b[?25l\u001b[?25hdone\n"
          ]
        }
      ],
      "source": [
        "!pip install -q pymorphy2 snorkel dostoevsky transformers pyspark"
      ]
    },
    {
      "cell_type": "code",
      "execution_count": null,
      "metadata": {
        "colab": {
          "base_uri": "https://localhost:8080/"
        },
        "id": "eFo4qfod6MDV",
        "outputId": "3eee6c71-2a6e-4110-c524-5a8c3ecc547f"
      },
      "outputs": [
        {
          "output_type": "stream",
          "name": "stderr",
          "text": [
            "/usr/local/lib/python3.10/dist-packages/pyspark/pandas/__init__.py:50: UserWarning: 'PYARROW_IGNORE_TIMEZONE' environment variable was not set. It is required to set this environment variable to '1' in both driver and executor sides if you use pyarrow>=2.0.0. pandas-on-Spark will set it for you but it does not work if there is a Spark context already launched.\n",
            "  warnings.warn(\n",
            "[nltk_data] Downloading package stopwords to /root/nltk_data...\n",
            "[nltk_data]   Unzipping corpora/stopwords.zip.\n",
            "[nltk_data] Downloading package punkt to /root/nltk_data...\n",
            "[nltk_data]   Unzipping tokenizers/punkt.zip.\n"
          ]
        }
      ],
      "source": [
        "import re\n",
        "import pyspark.pandas as ps\n",
        "import pandas as pd\n",
        "import numpy as np\n",
        "import matplotlib.pyplot as plt\n",
        "import seaborn as sns\n",
        "import pymorphy2\n",
        "import torch\n",
        "import nltk\n",
        "from transformers import AutoTokenizer, AutoModelForSequenceClassification\n",
        "from pyspark.sql import SparkSession\n",
        "from pyspark.sql import functions as F, types as T\n",
        "from nltk import FreqDist\n",
        "from nltk.corpus import stopwords\n",
        "from nltk.tokenize import word_tokenize\n",
        "from wordcloud import WordCloud\n",
        "from dostoevsky.models import FastTextSocialNetworkModel\n",
        "from dostoevsky.tokenization import RegexTokenizer\n",
        "from snorkel.labeling import labeling_function, PandasLFApplier, LFAnalysis\n",
        "from snorkel.labeling.model import LabelModel\n",
        "from snorkel.labeling.apply.spark import SparkLFApplier\n",
        "from sklearn.metrics import confusion_matrix, classification_report\n",
        "\n",
        "import warnings\n",
        "warnings.filterwarnings('ignore')\n",
        "\n",
        "nltk.download('stopwords')\n",
        "nltk.download('punkt')\n",
        "\n",
        "!wget -O 'fasttext-social-network-model.bin' -q https://www.dropbox.com/s/p3ulnyhvqworjau/fasttext-social-network-model.bin?dl=0\n",
        "!wget -O 'comments.parquet' -q https://www.dropbox.com/s/98wzn9tmusa8egh/comments.parquet?dl=0\n",
        "!wget -O 'ground_truth.csv' -q https://www.dropbox.com/s/ra1ecymz5ggfom1/ground_truth.csv?dl=0"
      ]
    },
    {
      "cell_type": "markdown",
      "metadata": {
        "id": "eME8p0eGse4v"
      },
      "source": [
        "---"
      ]
    },
    {
      "cell_type": "markdown",
      "metadata": {
        "id": "sJLjCGVYw9xT"
      },
      "source": [
        "### Обработка датасета"
      ]
    },
    {
      "cell_type": "code",
      "source": [
        "APP_NAME = 'catastriphizing_detection'"
      ],
      "metadata": {
        "id": "Xm6SZ7nWKZ8T"
      },
      "execution_count": null,
      "outputs": []
    },
    {
      "cell_type": "code",
      "source": [
        "spark = (\n",
        "    SparkSession\n",
        "    .builder\n",
        "    .appName(APP_NAME)\n",
        "    .getOrCreate()\n",
        ")"
      ],
      "metadata": {
        "id": "Bgglg62RKNhD"
      },
      "execution_count": null,
      "outputs": []
    },
    {
      "cell_type": "code",
      "source": [
        "data = spark.read.option('header', True).parquet('comments.parquet')"
      ],
      "metadata": {
        "id": "PH4NYonFKn8s"
      },
      "execution_count": null,
      "outputs": []
    },
    {
      "cell_type": "code",
      "source": [
        "data.printSchema()"
      ],
      "metadata": {
        "colab": {
          "base_uri": "https://localhost:8080/"
        },
        "id": "uS_eqiJGKynL",
        "outputId": "14845e03-33a7-49aa-fa36-9d1a7f307305"
      },
      "execution_count": null,
      "outputs": [
        {
          "output_type": "stream",
          "name": "stdout",
          "text": [
            "root\n",
            " |-- video_id: string (nullable = true)\n",
            " |-- comment_id: string (nullable = true)\n",
            " |-- comment_text: string (nullable = true)\n",
            " |-- author_display_name: string (nullable = true)\n",
            " |-- comment_like_count: long (nullable = true)\n",
            " |-- comment_updated_at: string (nullable = true)\n",
            "\n"
          ]
        }
      ]
    },
    {
      "cell_type": "code",
      "source": [
        "data.count()"
      ],
      "metadata": {
        "colab": {
          "base_uri": "https://localhost:8080/"
        },
        "id": "x87SYNPLKypn",
        "outputId": "59cbd9d1-3ed0-429d-c0eb-36eb24161c15"
      },
      "execution_count": null,
      "outputs": [
        {
          "output_type": "execute_result",
          "data": {
            "text/plain": [
              "1499988"
            ]
          },
          "metadata": {},
          "execution_count": 7
        }
      ]
    },
    {
      "cell_type": "code",
      "source": [
        "data.show()"
      ],
      "metadata": {
        "colab": {
          "base_uri": "https://localhost:8080/"
        },
        "id": "iyvJzsYWKyrk",
        "outputId": "7efafd9a-6367-49ea-a78a-d883f53d08c7"
      },
      "execution_count": null,
      "outputs": [
        {
          "output_type": "stream",
          "name": "stdout",
          "text": [
            "+-----------+--------------------+--------------------+-------------------+------------------+--------------------+\n",
            "|   video_id|          comment_id|        comment_text|author_display_name|comment_like_count|  comment_updated_at|\n",
            "+-----------+--------------------+--------------------+-------------------+------------------+--------------------+\n",
            "|qqYVHnmvyi4|Ugx5Q3hB7qm02RFpP...|Просто представьт...|          Анастасия|                 1|2021-04-29T17:12:55Z|\n",
            "|SajTzXP-dyM|Ugx3gxuZle6yZHaXd...|Да ясно, какое ре...| Larisa Uanchevskaa|                29|2021-04-29T17:12:39Z|\n",
            "|ftSiZBr4nkM|UgwhnM9rIGB-Tf2sA...|Будьте прокляты в...|          xtAqHNpFg|                 0|2021-04-29T17:12:34Z|\n",
            "|ftSiZBr4nkM|UgzvMrrSppANncEG6...|Народ просыпается...|          His Phone|                 1|2021-04-29T17:12:31Z|\n",
            "|ftSiZBr4nkM|UgwrWbNXxuzalfb-0...|Вы настоящие патр...|          His Phone|                 1|2021-04-29T17:12:20Z|\n",
            "|0EBJhFip9v4|UgyrxXgfQnm2X5hMB...|Снова уходишь? По...|       Boris Бритва|                 1|2021-04-29T17:12:19Z|\n",
            "|SajTzXP-dyM|UgwhvL8s4KO-o-1hl...|Алексей , здравом...| Людмила Богатырёва|               281|2021-04-29T17:12:09Z|\n",
            "|ftSiZBr4nkM|UgzGv83qqH4zQRwwH...|Классный выпуск п...|          His Phone|                 1|2021-04-29T17:12:04Z|\n",
            "|SajTzXP-dyM|Ugw1V7Y-DiT_AEYDa...|Фролова на послед...|      Kristy Kristy|                42|2021-04-29T17:11:54Z|\n",
            "|ftSiZBr4nkM|Ugyc80MEf1CH75hce...|Спасибо вам за ра...|          His Phone|                 0|2021-04-29T17:11:51Z|\n",
            "|mXcFVlxe-jg|UgyJvqoL92DhIqtCA...|Предатель и неуда...|  тамара оранасенко|                 0|2021-04-29T17:11:35Z|\n",
            "|ftSiZBr4nkM|Ugz0eHYexrjbXF3WI...|Здоровья Алексею ...|     Игорь Хвальнов|                 0|2021-04-29T17:11:33Z|\n",
            "|SajTzXP-dyM|UgwxQu_EbvmwCivqv...|Фролову на МЫЛО!!!!!|             Igor Y|                 0|2021-04-29T17:11:22Z|\n",
            "|iiQzWKYhdgs|Ugz8-Rhq78erboVVj...|Царь России фальш...|      Эдуард Хороля|                 0|2021-04-29T17:11:17Z|\n",
            "|ftSiZBr4nkM|UgxtO4de6_cb27nZs...|Она и есть подпол...|      Mikhail Erica|                 0|2021-04-29T17:10:36Z|\n",
            "|SajTzXP-dyM|UgwMBeDcdutHQpSGO...|Открыто врут , из...|          Моника. П|                53|2021-04-29T17:10:33Z|\n",
            "|qqYVHnmvyi4|UgyAbwskm7DqrLZb_...|Молодец, навальны...|      Janna Mischok|                 0|2021-04-29T17:10:32Z|\n",
            "|SajTzXP-dyM|Ugz4RrM9bNb0GO9v7...|Навальный не поли...|  RELAXING PARADISE|                 2|2021-04-29T17:10:28Z|\n",
            "|IvZeQCRnqtk|Ugw6BC-D-LRV_fl0h...|Что в первом срок...|      Вера Нисанова|                 0|2021-04-29T17:10:19Z|\n",
            "|iiQzWKYhdgs|UgxxqoSZ5FatBsure...|      Запад поможет.|      Эдуард Хороля|                 0|2021-04-29T17:10:13Z|\n",
            "+-----------+--------------------+--------------------+-------------------+------------------+--------------------+\n",
            "only showing top 20 rows\n",
            "\n"
          ]
        }
      ]
    },
    {
      "cell_type": "code",
      "execution_count": null,
      "metadata": {
        "id": "ORSHTOgy7jfC"
      },
      "outputs": [],
      "source": [
        "comments_text = data[['comment_id', 'comment_text']].limit(150000)"
      ]
    },
    {
      "cell_type": "code",
      "execution_count": null,
      "metadata": {
        "id": "jV5UNnxnsjMO"
      },
      "outputs": [],
      "source": [
        "lemmatizer = pymorphy2.MorphAnalyzer()\n",
        "stop_words = stopwords.words(\"russian\")\n",
        "stop_words = [sw for sw in stop_words if sw not in ['не', 'ничего', 'совсем',\n",
        "                                                    'никогда', 'хорошо', 'вдруг',\n",
        "                                                    'если', 'может', 'лучше',\n",
        "                                                    'я', 'мне', 'меня', 'нет']]\n",
        "stop_words.extend(['это', 'всё', 'ещё'])"
      ]
    },
    {
      "cell_type": "code",
      "execution_count": null,
      "metadata": {
        "id": "1tIzeP_m7oIq"
      },
      "outputs": [],
      "source": [
        "def preprocess(text):\n",
        "    text = re.sub('<.*?>|https?://\\S+|@\\w+|[^\\w\\s]|\\d+|[^\\u0400-\\u04FF\\s]', '', text.lower())\n",
        "    text = re.sub(r'|\\b\\w*(\\w)\\1+\\w*\\b', '', text)\n",
        "    text = re.sub(r'\\s+', ' ', text)\n",
        "    text = list(filter(str.isalpha, word_tokenize(text)))\n",
        "    text = list(word.replace('ё', 'е') for word in text if word not in stop_words)\n",
        "    return ' '.join(text)"
      ]
    },
    {
      "cell_type": "code",
      "source": [
        "def normalize(text):\n",
        "    text = [lemmatizer.parse(word)[0].normal_form for word in text.split(' ') if word.isalpha()]\n",
        "    return ' '.join(text)"
      ],
      "metadata": {
        "id": "4uCTEO-qssSD"
      },
      "execution_count": null,
      "outputs": []
    },
    {
      "cell_type": "code",
      "source": [
        "preprocess_udf = F.udf(preprocess, T.StringType())\n",
        "normalize_udf = F.udf(normalize, T.StringType())"
      ],
      "metadata": {
        "id": "DxuuS8qdWUfF"
      },
      "execution_count": null,
      "outputs": []
    },
    {
      "cell_type": "code",
      "execution_count": null,
      "metadata": {
        "id": "yqZmaVzW7oLK"
      },
      "outputs": [],
      "source": [
        "comments_text = comments_text.withColumn('tokens', preprocess_udf(F.col('comment_text')))\n",
        "comments_text = comments_text.withColumn('comment_len', F.length('tokens'))\n",
        "comments_text = comments_text.withColumn('normalized_tokens', normalize_udf(F.col('tokens')))\n",
        "comments_text = comments_text.filter(comments_text.comment_len > 0)\n",
        "comments_text = comments_text.dropDuplicates(['tokens'])"
      ]
    },
    {
      "cell_type": "code",
      "source": [
        "comments_text = comments_text.to_pandas_on_spark()"
      ],
      "metadata": {
        "id": "eLTXQjIeR5vE"
      },
      "execution_count": null,
      "outputs": []
    },
    {
      "cell_type": "code",
      "source": [
        "# гистограмма распределения кол-ва символов\n",
        "comments_text['comment_len'].plot.hist(bins=50)"
      ],
      "metadata": {
        "colab": {
          "base_uri": "https://localhost:8080/",
          "height": 542
        },
        "id": "D8Gy8NZ0XvHn",
        "outputId": "6de4225b-5adb-4597-8399-d5442cfcfbff"
      },
      "execution_count": null,
      "outputs": [
        {
          "output_type": "display_data",
          "data": {
            "text/html": [
              "<html>\n",
              "<head><meta charset=\"utf-8\" /></head>\n",
              "<body>\n",
              "    <div>            <script src=\"https://cdnjs.cloudflare.com/ajax/libs/mathjax/2.7.5/MathJax.js?config=TeX-AMS-MML_SVG\"></script><script type=\"text/javascript\">if (window.MathJax && window.MathJax.Hub && window.MathJax.Hub.Config) {window.MathJax.Hub.Config({SVG: {font: \"STIX-Web\"}});}</script>                <script type=\"text/javascript\">window.PlotlyConfig = {MathJaxConfig: 'local'};</script>\n",
              "        <script src=\"https://cdn.plot.ly/plotly-2.18.2.min.js\"></script>                <div id=\"9a520065-89b1-4831-a22d-7e888fe42d29\" class=\"plotly-graph-div\" style=\"height:525px; width:100%;\"></div>            <script type=\"text/javascript\">                                    window.PLOTLYENV=window.PLOTLYENV || {};                                    if (document.getElementById(\"9a520065-89b1-4831-a22d-7e888fe42d29\")) {                    Plotly.newPlot(                        \"9a520065-89b1-4831-a22d-7e888fe42d29\",                        [{\"hovertemplate\":\"variable=comment_len<br>value=%{text}<br>count=%{y}\",\"name\":\"comment_len\",\"text\":[\"[1.0, 78.06)\",\"[78.06, 155.12)\",\"[155.12, 232.18)\",\"[232.18, 309.24)\",\"[309.24, 386.3)\",\"[386.3, 463.36)\",\"[463.36, 540.42)\",\"[540.42, 617.48)\",\"[617.48, 694.54)\",\"[694.54, 771.6)\",\"[771.6, 848.66)\",\"[848.66, 925.72)\",\"[925.72, 1002.78)\",\"[1002.78, 1079.84)\",\"[1079.84, 1156.9)\",\"[1156.9, 1233.96)\",\"[1233.96, 1311.02)\",\"[1311.02, 1388.08)\",\"[1388.08, 1465.14)\",\"[1465.14, 1542.2)\",\"[1542.2, 1619.26)\",\"[1619.26, 1696.32)\",\"[1696.32, 1773.38)\",\"[1773.38, 1850.44)\",\"[1850.44, 1927.5)\",\"[1927.5, 2004.56)\",\"[2004.56, 2081.62)\",\"[2081.62, 2158.68)\",\"[2158.68, 2235.74)\",\"[2235.74, 2312.8)\",\"[2312.8, 2389.86)\",\"[2389.86, 2466.92)\",\"[2466.92, 2543.98)\",\"[2543.98, 2621.04)\",\"[2621.04, 2698.1)\",\"[2698.1, 2775.16)\",\"[2775.16, 2852.22)\",\"[2852.22, 2929.28)\",\"[2929.28, 3006.34)\",\"[3006.34, 3083.4)\",\"[3083.4, 3160.46)\",\"[3160.46, 3237.52)\",\"[3237.52, 3314.58)\",\"[3314.58, 3391.64)\",\"[3391.64, 3468.7)\",\"[3468.7, 3545.76)\",\"[3545.76, 3622.82)\",\"[3622.82, 3699.88)\",\"[3699.88, 3776.94)\",\"[3776.94, 3854.0]\"],\"x\":[39.53,116.59,193.65,270.71000000000004,347.77,424.83000000000004,501.89000000000004,578.95,656.01,733.0699999999999,810.1300000000001,887.19,964.25,1041.31,1118.3700000000001,1195.43,1272.49,1349.55,1426.6100000000001,1503.67,1580.73,1657.79,1734.8500000000001,1811.91,1888.97,1966.03,2043.09,2120.15,2197.21,2274.2700000000004,2351.33,2428.3900000000003,2505.45,2582.51,2659.5699999999997,2736.63,2813.69,2890.75,2967.8100000000004,3044.87,3121.9300000000003,3198.99,3276.05,3353.11,3430.17,3507.2300000000005,3584.29,3661.3500000000004,3738.41,3815.4700000000003],\"y\":[93246.0,28026.0,7538.0,2921.0,1321.0,715.0,451.0,291.0,167.0,120.0,92.0,60.0,50.0,35.0,32.0,23.0,29.0,23.0,16.0,13.0,8.0,10.0,6.0,11.0,6.0,1.0,6.0,6.0,5.0,6.0,2.0,4.0,1.0,4.0,3.0,4.0,1.0,2.0,8.0,3.0,3.0,1.0,0.0,2.0,3.0,0.0,3.0,3.0,6.0,4.0],\"type\":\"bar\"}],                        {\"template\":{\"data\":{\"histogram2dcontour\":[{\"type\":\"histogram2dcontour\",\"colorbar\":{\"outlinewidth\":0,\"ticks\":\"\"},\"colorscale\":[[0.0,\"#0d0887\"],[0.1111111111111111,\"#46039f\"],[0.2222222222222222,\"#7201a8\"],[0.3333333333333333,\"#9c179e\"],[0.4444444444444444,\"#bd3786\"],[0.5555555555555556,\"#d8576b\"],[0.6666666666666666,\"#ed7953\"],[0.7777777777777778,\"#fb9f3a\"],[0.8888888888888888,\"#fdca26\"],[1.0,\"#f0f921\"]]}],\"choropleth\":[{\"type\":\"choropleth\",\"colorbar\":{\"outlinewidth\":0,\"ticks\":\"\"}}],\"histogram2d\":[{\"type\":\"histogram2d\",\"colorbar\":{\"outlinewidth\":0,\"ticks\":\"\"},\"colorscale\":[[0.0,\"#0d0887\"],[0.1111111111111111,\"#46039f\"],[0.2222222222222222,\"#7201a8\"],[0.3333333333333333,\"#9c179e\"],[0.4444444444444444,\"#bd3786\"],[0.5555555555555556,\"#d8576b\"],[0.6666666666666666,\"#ed7953\"],[0.7777777777777778,\"#fb9f3a\"],[0.8888888888888888,\"#fdca26\"],[1.0,\"#f0f921\"]]}],\"heatmap\":[{\"type\":\"heatmap\",\"colorbar\":{\"outlinewidth\":0,\"ticks\":\"\"},\"colorscale\":[[0.0,\"#0d0887\"],[0.1111111111111111,\"#46039f\"],[0.2222222222222222,\"#7201a8\"],[0.3333333333333333,\"#9c179e\"],[0.4444444444444444,\"#bd3786\"],[0.5555555555555556,\"#d8576b\"],[0.6666666666666666,\"#ed7953\"],[0.7777777777777778,\"#fb9f3a\"],[0.8888888888888888,\"#fdca26\"],[1.0,\"#f0f921\"]]}],\"heatmapgl\":[{\"type\":\"heatmapgl\",\"colorbar\":{\"outlinewidth\":0,\"ticks\":\"\"},\"colorscale\":[[0.0,\"#0d0887\"],[0.1111111111111111,\"#46039f\"],[0.2222222222222222,\"#7201a8\"],[0.3333333333333333,\"#9c179e\"],[0.4444444444444444,\"#bd3786\"],[0.5555555555555556,\"#d8576b\"],[0.6666666666666666,\"#ed7953\"],[0.7777777777777778,\"#fb9f3a\"],[0.8888888888888888,\"#fdca26\"],[1.0,\"#f0f921\"]]}],\"contourcarpet\":[{\"type\":\"contourcarpet\",\"colorbar\":{\"outlinewidth\":0,\"ticks\":\"\"}}],\"contour\":[{\"type\":\"contour\",\"colorbar\":{\"outlinewidth\":0,\"ticks\":\"\"},\"colorscale\":[[0.0,\"#0d0887\"],[0.1111111111111111,\"#46039f\"],[0.2222222222222222,\"#7201a8\"],[0.3333333333333333,\"#9c179e\"],[0.4444444444444444,\"#bd3786\"],[0.5555555555555556,\"#d8576b\"],[0.6666666666666666,\"#ed7953\"],[0.7777777777777778,\"#fb9f3a\"],[0.8888888888888888,\"#fdca26\"],[1.0,\"#f0f921\"]]}],\"surface\":[{\"type\":\"surface\",\"colorbar\":{\"outlinewidth\":0,\"ticks\":\"\"},\"colorscale\":[[0.0,\"#0d0887\"],[0.1111111111111111,\"#46039f\"],[0.2222222222222222,\"#7201a8\"],[0.3333333333333333,\"#9c179e\"],[0.4444444444444444,\"#bd3786\"],[0.5555555555555556,\"#d8576b\"],[0.6666666666666666,\"#ed7953\"],[0.7777777777777778,\"#fb9f3a\"],[0.8888888888888888,\"#fdca26\"],[1.0,\"#f0f921\"]]}],\"mesh3d\":[{\"type\":\"mesh3d\",\"colorbar\":{\"outlinewidth\":0,\"ticks\":\"\"}}],\"scatter\":[{\"fillpattern\":{\"fillmode\":\"overlay\",\"size\":10,\"solidity\":0.2},\"type\":\"scatter\"}],\"parcoords\":[{\"type\":\"parcoords\",\"line\":{\"colorbar\":{\"outlinewidth\":0,\"ticks\":\"\"}}}],\"scatterpolargl\":[{\"type\":\"scatterpolargl\",\"marker\":{\"colorbar\":{\"outlinewidth\":0,\"ticks\":\"\"}}}],\"bar\":[{\"error_x\":{\"color\":\"#2a3f5f\"},\"error_y\":{\"color\":\"#2a3f5f\"},\"marker\":{\"line\":{\"color\":\"#E5ECF6\",\"width\":0.5},\"pattern\":{\"fillmode\":\"overlay\",\"size\":10,\"solidity\":0.2}},\"type\":\"bar\"}],\"scattergeo\":[{\"type\":\"scattergeo\",\"marker\":{\"colorbar\":{\"outlinewidth\":0,\"ticks\":\"\"}}}],\"scatterpolar\":[{\"type\":\"scatterpolar\",\"marker\":{\"colorbar\":{\"outlinewidth\":0,\"ticks\":\"\"}}}],\"histogram\":[{\"marker\":{\"pattern\":{\"fillmode\":\"overlay\",\"size\":10,\"solidity\":0.2}},\"type\":\"histogram\"}],\"scattergl\":[{\"type\":\"scattergl\",\"marker\":{\"colorbar\":{\"outlinewidth\":0,\"ticks\":\"\"}}}],\"scatter3d\":[{\"type\":\"scatter3d\",\"line\":{\"colorbar\":{\"outlinewidth\":0,\"ticks\":\"\"}},\"marker\":{\"colorbar\":{\"outlinewidth\":0,\"ticks\":\"\"}}}],\"scattermapbox\":[{\"type\":\"scattermapbox\",\"marker\":{\"colorbar\":{\"outlinewidth\":0,\"ticks\":\"\"}}}],\"scatterternary\":[{\"type\":\"scatterternary\",\"marker\":{\"colorbar\":{\"outlinewidth\":0,\"ticks\":\"\"}}}],\"scattercarpet\":[{\"type\":\"scattercarpet\",\"marker\":{\"colorbar\":{\"outlinewidth\":0,\"ticks\":\"\"}}}],\"carpet\":[{\"aaxis\":{\"endlinecolor\":\"#2a3f5f\",\"gridcolor\":\"white\",\"linecolor\":\"white\",\"minorgridcolor\":\"white\",\"startlinecolor\":\"#2a3f5f\"},\"baxis\":{\"endlinecolor\":\"#2a3f5f\",\"gridcolor\":\"white\",\"linecolor\":\"white\",\"minorgridcolor\":\"white\",\"startlinecolor\":\"#2a3f5f\"},\"type\":\"carpet\"}],\"table\":[{\"cells\":{\"fill\":{\"color\":\"#EBF0F8\"},\"line\":{\"color\":\"white\"}},\"header\":{\"fill\":{\"color\":\"#C8D4E3\"},\"line\":{\"color\":\"white\"}},\"type\":\"table\"}],\"barpolar\":[{\"marker\":{\"line\":{\"color\":\"#E5ECF6\",\"width\":0.5},\"pattern\":{\"fillmode\":\"overlay\",\"size\":10,\"solidity\":0.2}},\"type\":\"barpolar\"}],\"pie\":[{\"automargin\":true,\"type\":\"pie\"}]},\"layout\":{\"autotypenumbers\":\"strict\",\"colorway\":[\"#636efa\",\"#EF553B\",\"#00cc96\",\"#ab63fa\",\"#FFA15A\",\"#19d3f3\",\"#FF6692\",\"#B6E880\",\"#FF97FF\",\"#FECB52\"],\"font\":{\"color\":\"#2a3f5f\"},\"hovermode\":\"closest\",\"hoverlabel\":{\"align\":\"left\"},\"paper_bgcolor\":\"white\",\"plot_bgcolor\":\"#E5ECF6\",\"polar\":{\"bgcolor\":\"#E5ECF6\",\"angularaxis\":{\"gridcolor\":\"white\",\"linecolor\":\"white\",\"ticks\":\"\"},\"radialaxis\":{\"gridcolor\":\"white\",\"linecolor\":\"white\",\"ticks\":\"\"}},\"ternary\":{\"bgcolor\":\"#E5ECF6\",\"aaxis\":{\"gridcolor\":\"white\",\"linecolor\":\"white\",\"ticks\":\"\"},\"baxis\":{\"gridcolor\":\"white\",\"linecolor\":\"white\",\"ticks\":\"\"},\"caxis\":{\"gridcolor\":\"white\",\"linecolor\":\"white\",\"ticks\":\"\"}},\"coloraxis\":{\"colorbar\":{\"outlinewidth\":0,\"ticks\":\"\"}},\"colorscale\":{\"sequential\":[[0.0,\"#0d0887\"],[0.1111111111111111,\"#46039f\"],[0.2222222222222222,\"#7201a8\"],[0.3333333333333333,\"#9c179e\"],[0.4444444444444444,\"#bd3786\"],[0.5555555555555556,\"#d8576b\"],[0.6666666666666666,\"#ed7953\"],[0.7777777777777778,\"#fb9f3a\"],[0.8888888888888888,\"#fdca26\"],[1.0,\"#f0f921\"]],\"sequentialminus\":[[0.0,\"#0d0887\"],[0.1111111111111111,\"#46039f\"],[0.2222222222222222,\"#7201a8\"],[0.3333333333333333,\"#9c179e\"],[0.4444444444444444,\"#bd3786\"],[0.5555555555555556,\"#d8576b\"],[0.6666666666666666,\"#ed7953\"],[0.7777777777777778,\"#fb9f3a\"],[0.8888888888888888,\"#fdca26\"],[1.0,\"#f0f921\"]],\"diverging\":[[0,\"#8e0152\"],[0.1,\"#c51b7d\"],[0.2,\"#de77ae\"],[0.3,\"#f1b6da\"],[0.4,\"#fde0ef\"],[0.5,\"#f7f7f7\"],[0.6,\"#e6f5d0\"],[0.7,\"#b8e186\"],[0.8,\"#7fbc41\"],[0.9,\"#4d9221\"],[1,\"#276419\"]]},\"xaxis\":{\"gridcolor\":\"white\",\"linecolor\":\"white\",\"ticks\":\"\",\"title\":{\"standoff\":15},\"zerolinecolor\":\"white\",\"automargin\":true,\"zerolinewidth\":2},\"yaxis\":{\"gridcolor\":\"white\",\"linecolor\":\"white\",\"ticks\":\"\",\"title\":{\"standoff\":15},\"zerolinecolor\":\"white\",\"automargin\":true,\"zerolinewidth\":2},\"scene\":{\"xaxis\":{\"backgroundcolor\":\"#E5ECF6\",\"gridcolor\":\"white\",\"linecolor\":\"white\",\"showbackground\":true,\"ticks\":\"\",\"zerolinecolor\":\"white\",\"gridwidth\":2},\"yaxis\":{\"backgroundcolor\":\"#E5ECF6\",\"gridcolor\":\"white\",\"linecolor\":\"white\",\"showbackground\":true,\"ticks\":\"\",\"zerolinecolor\":\"white\",\"gridwidth\":2},\"zaxis\":{\"backgroundcolor\":\"#E5ECF6\",\"gridcolor\":\"white\",\"linecolor\":\"white\",\"showbackground\":true,\"ticks\":\"\",\"zerolinecolor\":\"white\",\"gridwidth\":2}},\"shapedefaults\":{\"line\":{\"color\":\"#2a3f5f\"}},\"annotationdefaults\":{\"arrowcolor\":\"#2a3f5f\",\"arrowhead\":0,\"arrowwidth\":1},\"geo\":{\"bgcolor\":\"white\",\"landcolor\":\"#E5ECF6\",\"subunitcolor\":\"white\",\"showland\":true,\"showlakes\":true,\"lakecolor\":\"white\"},\"title\":{\"x\":0.05},\"mapbox\":{\"style\":\"light\"}}},\"barmode\":\"stack\",\"xaxis\":{\"title\":{\"text\":\"value\"}},\"yaxis\":{\"title\":{\"text\":\"count\"}}},                        {\"responsive\": true}                    ).then(function(){\n",
              "                            \n",
              "var gd = document.getElementById('9a520065-89b1-4831-a22d-7e888fe42d29');\n",
              "var x = new MutationObserver(function (mutations, observer) {{\n",
              "        var display = window.getComputedStyle(gd).display;\n",
              "        if (!display || display === 'none') {{\n",
              "            console.log([gd, 'removed!']);\n",
              "            Plotly.purge(gd);\n",
              "            observer.disconnect();\n",
              "        }}\n",
              "}});\n",
              "\n",
              "// Listen for the removal of the full notebook cells\n",
              "var notebookContainer = gd.closest('#notebook-container');\n",
              "if (notebookContainer) {{\n",
              "    x.observe(notebookContainer, {childList: true});\n",
              "}}\n",
              "\n",
              "// Listen for the clearing of the current output cell\n",
              "var outputEl = gd.closest('.output');\n",
              "if (outputEl) {{\n",
              "    x.observe(outputEl, {childList: true});\n",
              "}}\n",
              "\n",
              "                        })                };                            </script>        </div>\n",
              "</body>\n",
              "</html>"
            ]
          },
          "metadata": {}
        }
      ]
    },
    {
      "cell_type": "markdown",
      "metadata": {
        "id": "euH0gY8vPixe"
      },
      "source": [
        "---"
      ]
    },
    {
      "cell_type": "markdown",
      "metadata": {
        "id": "6SayBH3V9Amc"
      },
      "source": [
        "### Обработка ground_truth датасета"
      ]
    },
    {
      "cell_type": "markdown",
      "metadata": {
        "id": "jews8L8zs2lY"
      },
      "source": [
        "Вручную было отобрано чуть более 100 представителей класса с катастрофизацией"
      ]
    },
    {
      "cell_type": "code",
      "source": [
        "gt = pd.read_csv('ground_truth.csv')[['comment_id', 'comment_text']]"
      ],
      "metadata": {
        "id": "uqlgjDd30Sdf"
      },
      "execution_count": null,
      "outputs": []
    },
    {
      "cell_type": "code",
      "execution_count": null,
      "metadata": {
        "id": "zitvu2Jd9IRC"
      },
      "outputs": [],
      "source": [
        "gt.loc[:, 'tokens'] = gt.apply(lambda row: preprocess(row['comment_text']), axis=1)\n",
        "gt.loc[:, 'normalized_tokens'] = gt.apply(lambda row: normalize(row['tokens']), axis=1)"
      ]
    },
    {
      "cell_type": "code",
      "execution_count": null,
      "metadata": {
        "id": "AP5UY2aQuH6q"
      },
      "outputs": [],
      "source": [
        "def draw_wordcloud(texts, max_words=1000, width=500, height=250):\n",
        "    wordcloud = WordCloud(background_color='white', max_words=max_words,\n",
        "                          width=width, height=height)\n",
        "\n",
        "    joint_texts = ' '.join(list(texts))\n",
        "    wordcloud.generate(joint_texts)\n",
        "    return wordcloud.to_image()"
      ]
    },
    {
      "cell_type": "code",
      "execution_count": null,
      "metadata": {
        "colab": {
          "base_uri": "https://localhost:8080/"
        },
        "id": "-HLxnR6y7oPg",
        "outputId": "e17d28ce-7532-4f77-f3a0-79cc914007e3"
      },
      "outputs": [
        {
          "output_type": "execute_result",
          "data": {
            "text/plain": [
              "[('не', 88),\n",
              " ('людей', 19),\n",
              " ('я', 18),\n",
              " ('если', 17),\n",
              " ('конец', 16),\n",
              " ('будут', 14),\n",
              " ('люди', 13),\n",
              " ('ужас', 12),\n",
              " ('нет', 11),\n",
              " ('света', 10)]"
            ]
          },
          "metadata": {},
          "execution_count": 20
        }
      ],
      "source": [
        "fdist_uni_catast = FreqDist(' '.join(gt['tokens'].to_list()).split())\n",
        "fdist_uni_catast.most_common(10)"
      ]
    },
    {
      "cell_type": "code",
      "execution_count": null,
      "metadata": {
        "colab": {
          "base_uri": "https://localhost:8080/",
          "height": 267
        },
        "id": "uqYDuVBauK9J",
        "outputId": "ba7d7c38-d04b-4d17-fded-7d11f353a5b6"
      },
      "outputs": [
        {
          "output_type": "execute_result",
          "data": {
            "text/plain": [
              "<PIL.Image.Image image mode=RGB size=500x250 at 0x7F90ABF69ED0>"
            ],
            "image/png": "[encoded data removed]"
          },
          "metadata": {},
          "execution_count": 21
        }
      ],
      "source": [
        "draw_wordcloud(gt['tokens'].to_list())"
      ]
    },
    {
      "cell_type": "code",
      "execution_count": null,
      "metadata": {
        "id": "R3Q79xZuA4ZA"
      },
      "outputs": [],
      "source": [
        "bigrams_catast = []\n",
        "\n",
        "bigrams_catast.extend([bigram for comment in gt['tokens']\n",
        "                       for bigram in list(nltk.bigrams(comment.split()))])"
      ]
    },
    {
      "cell_type": "code",
      "execution_count": null,
      "metadata": {
        "colab": {
          "base_uri": "https://localhost:8080/"
        },
        "id": "bpnVKnGkDdp5",
        "outputId": "405bc4b1-3bdd-4746-96ac-1789b197685e"
      },
      "outputs": [
        {
          "output_type": "execute_result",
          "data": {
            "text/plain": [
              "[(('конец', 'света'), 9),\n",
              " (('нет', 'будущего'), 4),\n",
              " (('нужно', 'бежать'), 4),\n",
              " (('нам', 'конец'), 4),\n",
              " (('я', 'не'), 4),\n",
              " (('будут', 'убивать'), 4),\n",
              " (('не', 'хочу'), 3),\n",
              " (('если', 'не'), 3),\n",
              " (('простых', 'людей'), 3),\n",
              " (('часть', 'людей'), 3)]"
            ]
          },
          "metadata": {},
          "execution_count": 23
        }
      ],
      "source": [
        "fdist_bi_catast = FreqDist(bigrams_catast)\n",
        "fdist_bi_catast.most_common(10)"
      ]
    },
    {
      "cell_type": "code",
      "execution_count": null,
      "metadata": {
        "id": "-b4DTJUcZbOu"
      },
      "outputs": [],
      "source": [
        "catast_gt_len = [len(comment) for comment in gt['tokens']]"
      ]
    },
    {
      "cell_type": "code",
      "execution_count": null,
      "metadata": {
        "colab": {
          "base_uri": "https://localhost:8080/",
          "height": 602
        },
        "id": "kb87OR1ZZbRc",
        "outputId": "c0eab147-a844-4db0-8371-c395191a4a0a"
      },
      "outputs": [
        {
          "output_type": "display_data",
          "data": {
            "text/plain": [
              "<Figure size 800x600 with 1 Axes>"
            ],
            "image/png": "[encoded data removed]"
          },
          "metadata": {}
        }
      ],
      "source": [
        "fig = plt.figure(figsize=(8,6))\n",
        "\n",
        "sns.histplot(catast_gt_len, color='red')\n",
        "plt.ylabel('Кол-во')\n",
        "plt.xlabel('Число символов')\n",
        "\n",
        "fig.suptitle('Гистограмма распределения кол-ва букв в комментариях с катастрофизацией (gt)')\n",
        "plt.show()"
      ]
    },
    {
      "cell_type": "code",
      "execution_count": null,
      "metadata": {
        "id": "1wsVjEADG96j"
      },
      "outputs": [],
      "source": [
        "def get_postags(tokens):\n",
        "    return ' '.join([lemmatizer.tag(token)[0].POS for token in tokens.split()\n",
        "                     if lemmatizer.tag(token)[0].POS != None])"
      ]
    },
    {
      "cell_type": "code",
      "execution_count": null,
      "metadata": {
        "id": "1yjK1pM7_quo"
      },
      "outputs": [],
      "source": [
        "def count_pos(df):\n",
        "    df['token_count'] = df.tokens.apply(lambda x: len(x.split()))\n",
        "    df['pos'] = df.tokens.apply(lambda x: get_postags(x))\n",
        "    df['noun_count'] = df.pos.apply(lambda x: x.count('NOUN')) / df['token_count']\n",
        "    df['adj_count'] = df.pos.apply(lambda x: len(re.findall(r'ADJF|ADJS', x))) / df['token_count']\n",
        "    df['infn_count'] = df.pos.apply(lambda x: x.count('INFN')) / df['token_count']\n",
        "    df['advb_count'] = df.pos.apply(lambda x: x.count('ADVB')) / df['token_count']\n",
        "\n",
        "    return df"
      ]
    },
    {
      "cell_type": "code",
      "execution_count": null,
      "metadata": {
        "id": "sfrhPuk0Nreb"
      },
      "outputs": [],
      "source": [
        "gt = count_pos(gt)"
      ]
    },
    {
      "cell_type": "code",
      "execution_count": null,
      "metadata": {
        "colab": {
          "base_uri": "https://localhost:8080/",
          "height": 929
        },
        "id": "csK9TvuzNuE0",
        "outputId": "bb22432d-fc78-4a5e-f3e5-ef1e3ed67435"
      },
      "outputs": [
        {
          "output_type": "execute_result",
          "data": {
            "text/plain": [
              "                         comment_id  \\\n",
              "1529471  UgxKqpGNW6gq860Cp8Z4AaABAg   \n",
              "1557894  UgykGN9a68XXzRAJbRZ4AaABAg   \n",
              "1594038  UgxpDXQattYCMINl8Jt4AaABAg   \n",
              "1618558  UgyQ1fwqbmaVqSUgRP14AaABAg   \n",
              "1624222  UgzLX0TlMXaJyaumSVd4AaABAg   \n",
              "\n",
              "                                              comment_text  \\\n",
              "1529471  Что происходит? Люди мозгами сдвинулись на фон...   \n",
              "1557894  Господи Кремль останови эту Чечню!!!! Надо вал...   \n",
              "1594038  Чет пожалуй нахер мне гражданство такой позорн...   \n",
              "1618558                 Конец света близко слишком близко.   \n",
              "1624222  Почему Путин не может остановит Кадырова. Вы с...   \n",
              "\n",
              "                                                    tokens  \\\n",
              "1529471  происходит люди мозгами сдвинулись фоне войнаэ...   \n",
              "1557894  господи кремль останови чечню валить я детей л...   \n",
              "1594038  чет пожалуй нахер мне гражданство позорной стр...   \n",
              "1618558                  конец света близко слишком близко   \n",
              "1624222  почему путин не может остановит кадырова сами ...   \n",
              "\n",
              "                                         normalized_tokens  token_count  \\\n",
              "1529471  происходить человек мозг сдвинуться фон войнаэ...            9   \n",
              "1557894  господь кремль остановить чечня валить я ребён...           18   \n",
              "1594038  чета пожалуй нахер я гражданство позорный стра...            9   \n",
              "1618558                   конец свет близко слишком близко            5   \n",
              "1624222  почему путин не мочь остановить кадыров сам не...           30   \n",
              "\n",
              "                                                       pos  noun_count  \\\n",
              "1529471       VERB NOUN NOUN VERB NOUN ADJS ADJS NOUN ADJS    0.444444   \n",
              "1557894  NOUN NOUN VERB NOUN INFN NPRO NOUN PRCL INFN P...    0.444444   \n",
              "1594038       NOUN CONJ NOUN NPRO NOUN ADJF NOUN INFN NOUN    0.555556   \n",
              "1618558                           NOUN NOUN ADVB ADVB ADVB    0.400000   \n",
              "1624222  ADVB NOUN PRCL VERB VERB NOUN ADJF PRCL VERB A...    0.433333   \n",
              "\n",
              "         adj_count  infn_count  advb_count  \n",
              "1529471   0.333333    0.000000         0.0  \n",
              "1557894   0.111111    0.111111         0.0  \n",
              "1594038   0.111111    0.111111         0.0  \n",
              "1618558   0.000000    0.000000         0.6  \n",
              "1624222   0.066667    0.000000         0.1  "
            ],
            "text/html": [
              "\n",
              "  <div id=\"df-2d2de9f6-5626-48b2-9c30-104b760288cc\">\n",
              "    <div class=\"colab-df-container\">\n",
              "      <div>\n",
              "<style scoped>\n",
              "    .dataframe tbody tr th:only-of-type {\n",
              "        vertical-align: middle;\n",
              "    }\n",
              "\n",
              "    .dataframe tbody tr th {\n",
              "        vertical-align: top;\n",
              "    }\n",
              "\n",
              "    .dataframe thead th {\n",
              "        text-align: right;\n",
              "    }\n",
              "</style>\n",
              "<table border=\"1\" class=\"dataframe\">\n",
              "  <thead>\n",
              "    <tr style=\"text-align: right;\">\n",
              "      <th></th>\n",
              "      <th>comment_id</th>\n",
              "      <th>comment_text</th>\n",
              "      <th>tokens</th>\n",
              "      <th>normalized_tokens</th>\n",
              "      <th>token_count</th>\n",
              "      <th>pos</th>\n",
              "      <th>noun_count</th>\n",
              "      <th>adj_count</th>\n",
              "      <th>infn_count</th>\n",
              "      <th>advb_count</th>\n",
              "    </tr>\n",
              "  </thead>\n",
              "  <tbody>\n",
              "    <tr>\n",
              "      <th>1529471</th>\n",
              "      <td>UgxKqpGNW6gq860Cp8Z4AaABAg</td>\n",
              "      <td>Что происходит? Люди мозгами сдвинулись на фон...</td>\n",
              "      <td>происходит люди мозгами сдвинулись фоне войнаэ...</td>\n",
              "      <td>происходить человек мозг сдвинуться фон войнаэ...</td>\n",
              "      <td>9</td>\n",
              "      <td>VERB NOUN NOUN VERB NOUN ADJS ADJS NOUN ADJS</td>\n",
              "      <td>0.444444</td>\n",
              "      <td>0.333333</td>\n",
              "      <td>0.000000</td>\n",
              "      <td>0.0</td>\n",
              "    </tr>\n",
              "    <tr>\n",
              "      <th>1557894</th>\n",
              "      <td>UgykGN9a68XXzRAJbRZ4AaABAg</td>\n",
              "      <td>Господи Кремль останови эту Чечню!!!! Надо вал...</td>\n",
              "      <td>господи кремль останови чечню валить я детей л...</td>\n",
              "      <td>господь кремль остановить чечня валить я ребён...</td>\n",
              "      <td>18</td>\n",
              "      <td>NOUN NOUN VERB NOUN INFN NPRO NOUN PRCL INFN P...</td>\n",
              "      <td>0.444444</td>\n",
              "      <td>0.111111</td>\n",
              "      <td>0.111111</td>\n",
              "      <td>0.0</td>\n",
              "    </tr>\n",
              "    <tr>\n",
              "      <th>1594038</th>\n",
              "      <td>UgxpDXQattYCMINl8Jt4AaABAg</td>\n",
              "      <td>Чет пожалуй нахер мне гражданство такой позорн...</td>\n",
              "      <td>чет пожалуй нахер мне гражданство позорной стр...</td>\n",
              "      <td>чета пожалуй нахер я гражданство позорный стра...</td>\n",
              "      <td>9</td>\n",
              "      <td>NOUN CONJ NOUN NPRO NOUN ADJF NOUN INFN NOUN</td>\n",
              "      <td>0.555556</td>\n",
              "      <td>0.111111</td>\n",
              "      <td>0.111111</td>\n",
              "      <td>0.0</td>\n",
              "    </tr>\n",
              "    <tr>\n",
              "      <th>1618558</th>\n",
              "      <td>UgyQ1fwqbmaVqSUgRP14AaABAg</td>\n",
              "      <td>Конец света близко слишком близко.</td>\n",
              "      <td>конец света близко слишком близко</td>\n",
              "      <td>конец свет близко слишком близко</td>\n",
              "      <td>5</td>\n",
              "      <td>NOUN NOUN ADVB ADVB ADVB</td>\n",
              "      <td>0.400000</td>\n",
              "      <td>0.000000</td>\n",
              "      <td>0.000000</td>\n",
              "      <td>0.6</td>\n",
              "    </tr>\n",
              "    <tr>\n",
              "      <th>1624222</th>\n",
              "      <td>UgzLX0TlMXaJyaumSVd4AaABAg</td>\n",
              "      <td>Почему Путин не может остановит Кадырова. Вы с...</td>\n",
              "      <td>почему путин не может остановит кадырова сами ...</td>\n",
              "      <td>почему путин не мочь остановить кадыров сам не...</td>\n",
              "      <td>30</td>\n",
              "      <td>ADVB NOUN PRCL VERB VERB NOUN ADJF PRCL VERB A...</td>\n",
              "      <td>0.433333</td>\n",
              "      <td>0.066667</td>\n",
              "      <td>0.000000</td>\n",
              "      <td>0.1</td>\n",
              "    </tr>\n",
              "  </tbody>\n",
              "</table>\n",
              "</div>\n",
              "      <button class=\"colab-df-convert\" onclick=\"convertToInteractive('df-2d2de9f6-5626-48b2-9c30-104b760288cc')\"\n",
              "              title=\"Convert this dataframe to an interactive table.\"\n",
              "              style=\"display:none;\">\n",
              "        \n",
              "  <svg xmlns=\"http://www.w3.org/2000/svg\" height=\"24px\"viewBox=\"0 0 24 24\"\n",
              "       width=\"24px\">\n",
              "    <path d=\"M0 0h24v24H0V0z\" fill=\"none\"/>\n",
              "    <path d=\"M18.56 5.44l.94 2.06.94-2.06 2.06-.94-2.06-.94-.94-2.06-.94 2.06-2.06.94zm-11 1L8.5 8.5l.94-2.06 2.06-.94-2.06-.94L8.5 2.5l-.94 2.06-2.06.94zm10 10l.94 2.06.94-2.06 2.06-.94-2.06-.94-.94-2.06-.94 2.06-2.06.94z\"/><path d=\"M17.41 7.96l-1.37-1.37c-.4-.4-.92-.59-1.43-.59-.52 0-1.04.2-1.43.59L10.3 9.45l-7.72 7.72c-.78.78-.78 2.05 0 2.83L4 21.41c.39.39.9.59 1.41.59.51 0 1.02-.2 1.41-.59l7.78-7.78 2.81-2.81c.8-.78.8-2.07 0-2.86zM5.41 20L4 18.59l7.72-7.72 1.47 1.35L5.41 20z\"/>\n",
              "  </svg>\n",
              "      </button>\n",
              "      \n",
              "  <style>\n",
              "    .colab-df-container {\n",
              "      display:flex;\n",
              "      flex-wrap:wrap;\n",
              "      gap: 12px;\n",
              "    }\n",
              "\n",
              "    .colab-df-convert {\n",
              "      background-color: #E8F0FE;\n",
              "      border: none;\n",
              "      border-radius: 50%;\n",
              "      cursor: pointer;\n",
              "      display: none;\n",
              "      fill: #1967D2;\n",
              "      height: 32px;\n",
              "      padding: 0 0 0 0;\n",
              "      width: 32px;\n",
              "    }\n",
              "\n",
              "    .colab-df-convert:hover {\n",
              "      background-color: #E2EBFA;\n",
              "      box-shadow: 0px 1px 2px rgba(60, 64, 67, 0.3), 0px 1px 3px 1px rgba(60, 64, 67, 0.15);\n",
              "      fill: #174EA6;\n",
              "    }\n",
              "\n",
              "    [theme=dark] .colab-df-convert {\n",
              "      background-color: #3B4455;\n",
              "      fill: #D2E3FC;\n",
              "    }\n",
              "\n",
              "    [theme=dark] .colab-df-convert:hover {\n",
              "      background-color: #434B5C;\n",
              "      box-shadow: 0px 1px 3px 1px rgba(0, 0, 0, 0.15);\n",
              "      filter: drop-shadow(0px 1px 2px rgba(0, 0, 0, 0.3));\n",
              "      fill: #FFFFFF;\n",
              "    }\n",
              "  </style>\n",
              "\n",
              "      <script>\n",
              "        const buttonEl =\n",
              "          document.querySelector('#df-2d2de9f6-5626-48b2-9c30-104b760288cc button.colab-df-convert');\n",
              "        buttonEl.style.display =\n",
              "          google.colab.kernel.accessAllowed ? 'block' : 'none';\n",
              "\n",
              "        async function convertToInteractive(key) {\n",
              "          const element = document.querySelector('#df-2d2de9f6-5626-48b2-9c30-104b760288cc');\n",
              "          const dataTable =\n",
              "            await google.colab.kernel.invokeFunction('convertToInteractive',\n",
              "                                                     [key], {});\n",
              "          if (!dataTable) return;\n",
              "\n",
              "          const docLinkHtml = 'Like what you see? Visit the ' +\n",
              "            '<a target=\"_blank\" href=https://colab.research.google.com/notebooks/data_table.ipynb>data table notebook</a>'\n",
              "            + ' to learn more about interactive tables.';\n",
              "          element.innerHTML = '';\n",
              "          dataTable['output_type'] = 'display_data';\n",
              "          await google.colab.output.renderOutput(dataTable, element);\n",
              "          const docLink = document.createElement('div');\n",
              "          docLink.innerHTML = docLinkHtml;\n",
              "          element.appendChild(docLink);\n",
              "        }\n",
              "      </script>\n",
              "    </div>\n",
              "  </div>\n",
              "  "
            ]
          },
          "metadata": {},
          "execution_count": 29
        }
      ],
      "source": [
        "gt.head()"
      ]
    },
    {
      "cell_type": "code",
      "execution_count": null,
      "metadata": {
        "colab": {
          "base_uri": "https://localhost:8080/",
          "height": 329
        },
        "id": "oMhMB-4zNmnc",
        "outputId": "b57e5dff-3c58-48d4-c01b-5490588130c0"
      },
      "outputs": [
        {
          "output_type": "display_data",
          "data": {
            "text/plain": [
              "<Figure size 1800x400 with 4 Axes>"
            ],
            "image/png": "[encoded data removed]"
          },
          "metadata": {}
        }
      ],
      "source": [
        "fig, axs = plt.subplots(ncols=4, figsize=(18,4))\n",
        "\n",
        "sns.kdeplot(gt, x='noun_count', ax=axs[0])\n",
        "axs[0].set_xlabel('Частота существительных')\n",
        "\n",
        "sns.kdeplot(gt, x='adj_count', ax=axs[1])\n",
        "axs[1].set_xlabel('Частота прилагательных')\n",
        "\n",
        "sns.kdeplot(gt, x='infn_count', ax=axs[2])\n",
        "axs[2].set_xlabel('Частота инфинитивов')\n",
        "\n",
        "sns.kdeplot(gt, x='advb_count', ax=axs[3])\n",
        "axs[3].set_xlabel('Частота наречий')\n",
        "\n",
        "fig.suptitle('Распределения частей речи в твитах (gt)')\n",
        "plt.show()"
      ]
    },
    {
      "cell_type": "markdown",
      "metadata": {
        "id": "sJxB7i2n2nrR"
      },
      "source": [
        "---"
      ]
    },
    {
      "cell_type": "markdown",
      "metadata": {
        "id": "11Esvubj2oTE"
      },
      "source": [
        "### Dostoevsky"
      ]
    },
    {
      "cell_type": "code",
      "source": [
        "FastTextSocialNetworkModel.MODEL_PATH = '/content/fasttext-social-network-model.bin'\n",
        "tokenizer = RegexTokenizer()\n",
        "model = FastTextSocialNetworkModel(tokenizer=tokenizer)"
      ],
      "metadata": {
        "colab": {
          "base_uri": "https://localhost:8080/"
        },
        "id": "qiUkCtSR8ggY",
        "outputId": "33d50243-1fc9-44e4-8c12-0b8472419efa"
      },
      "execution_count": null,
      "outputs": [
        {
          "output_type": "stream",
          "name": "stderr",
          "text": [
            "Warning : `load_model` does not return WordVectorModel or SupervisedModel any more, but a `FastText` object which is very similar.\n"
          ]
        }
      ]
    },
    {
      "cell_type": "code",
      "execution_count": null,
      "metadata": {
        "id": "RXXa75eLy4a2"
      },
      "outputs": [],
      "source": [
        "def get_sentiments(text:list):\n",
        "\n",
        "    results = model.predict(text, k=1)\n",
        "    label = []\n",
        "    score = []\n",
        "    for x, y in list([list(x.items())[0] for x in results]):\n",
        "        label.append(x)\n",
        "        score.append(y)\n",
        "\n",
        "    return (label, score)"
      ]
    },
    {
      "cell_type": "code",
      "execution_count": null,
      "metadata": {
        "id": "Hsng3PQg2uWw"
      },
      "outputs": [],
      "source": [
        "sent_label, sent_score = get_sentiments(gt['comment_text'].tolist())\n",
        "gt['sentiment'] = sent_label\n",
        "gt['score'] = sent_score"
      ]
    },
    {
      "cell_type": "code",
      "execution_count": null,
      "metadata": {
        "colab": {
          "base_uri": "https://localhost:8080/"
        },
        "id": "TX3ijqSK0iAz",
        "outputId": "aa34971d-e1ef-4ceb-bf0d-42ac3a246819"
      },
      "outputs": [
        {
          "output_type": "execute_result",
          "data": {
            "text/plain": [
              "sentiment\n",
              "neutral      53\n",
              "negative     46\n",
              "positive      5\n",
              "skip          2\n",
              "speech        1\n",
              "dtype: int64"
            ]
          },
          "metadata": {},
          "execution_count": 34
        }
      ],
      "source": [
        "gt[['sentiment']].value_counts()"
      ]
    },
    {
      "cell_type": "code",
      "source": [
        "def get_sentiments(text:list):\n",
        "\n",
        "    results = model.predict(text, k=1)\n",
        "    label = []\n",
        "    score = []\n",
        "    for x, y in list([list(x.items())[0] for x in results]):\n",
        "        label.append(x)\n",
        "        score.append(y)\n",
        "\n",
        "    return (label, score)"
      ],
      "metadata": {
        "id": "cd1yn14jB6BU"
      },
      "execution_count": null,
      "outputs": []
    },
    {
      "cell_type": "code",
      "source": [
        "sent_label, sent_score = get_sentiments(comments_text['comment_text'].tolist())\n",
        "comments_text['sentiment'] = sent_label\n",
        "comments_text['score'] = sent_score"
      ],
      "metadata": {
        "id": "6XZH56A68vYf"
      },
      "execution_count": null,
      "outputs": []
    },
    {
      "cell_type": "markdown",
      "metadata": {
        "id": "H9AZLc-8213Q"
      },
      "source": [
        "---"
      ]
    },
    {
      "cell_type": "markdown",
      "metadata": {
        "id": "Z6aE71_NEknG"
      },
      "source": [
        "### rubert-tiny2-cedr-emotion-detection"
      ]
    },
    {
      "cell_type": "code",
      "source": [
        "tokenizer = AutoTokenizer.from_pretrained('cointegrated/rubert-tiny2-cedr-emotion-detection')\n",
        "model = AutoModelForSequenceClassification.from_pretrained('cointegrated/rubert-tiny2-cedr-emotion-detection')"
      ],
      "metadata": {
        "colab": {
          "base_uri": "https://localhost:8080/",
          "height": 209,
          "referenced_widgets": [
            "6065f95cb7764fb68dc5d570738fe679",
            "5fad019a0299408a9c8c29cb3f47f558",
            "e2c262d36d7e4fa1b04a667775ad16ec",
            "04ea45173ce64046a8c70de381c3ce72",
            "1e014b07191c4e069090e3e691721f16",
            "7c8105a04bc5482392a4b494853e0334",
            "ba0651874b234b438c1c1b6218e9cad3",
            "75d665a25f93451cbe3d78a1971408de",
            "8e18f5302cdb40aba9a6d092fa6b4bcb",
            "ab1add3babaf407094aedd08df15f504",
            "e32b51a2d9364682a04f8c669fbc8e32",
            "8708717291bf4db990a3db67011a295f",
            "2c4210707b774f2fac7402552d48c104",
            "29eeaadb54534eebbc1fead689ad93fe",
            "56245d2d45544b279ad2bb808c7743f8",
            "26351ad4dd26416cae94f915ca9318ef",
            "a5118c0eeaa3454fa1e9bdc99eea7ce9",
            "5af8314f0aaf4eb081b804b99c3dc4e4",
            "7b3842ad96d743ad92197cb514a21383",
            "c5f817800de841b9a1757f80370b099e",
            "1305e63d9549497c80dcc25927f79de4",
            "b7ff386a4af049dfaca155800e410126",
            "e639c8814eb64388a9cd63a693507049",
            "83275714d26e44c487ca8b0670e1a9b7",
            "60d423e79f2446bbbc8854772b4bbdbb",
            "f5ba09b8602f40b4b2e156f43e9750b6",
            "c7d08c7746be4041893991d7d03f602d",
            "adeb097e66e54f0b86cd3fc6aa6d7ad1",
            "a247ec7d9b874781be4ba9502059d79b",
            "4c2daf2fd13942ea87367a15d152ad04",
            "abc98519e2384e2a9d837aa407994b28",
            "27075fbc41744ca8b9183d05eccf42d8",
            "b1faafee490a4ba898431388352b2610",
            "ba87bad88fc747e5aa20ed167f5706d3",
            "135ab414d49b4fc69edc135034dedc45",
            "92527e6a270b4d0ab48c307bc32108b3",
            "920d59e236dd472cb8851c68905d06be",
            "a40e51d3a58e4d43a4efeddb508598ef",
            "d17f977152294d10b91397ead8a7c0a3",
            "db24f321de744eb68f5a8bb97e3f4e5c",
            "9547b6e386a6474e9d56d64d86f87d94",
            "635a5eca46a84fe5983f00792dcf7798",
            "4f0426e4283649e983e18827831f4dd3",
            "cff512aeeaca4004bb6761c31eae14b5",
            "e7d7583759dc4d7bbca1ad1966f54e10",
            "fc21644a4e3c41ae94fc3e60d4b34a8e",
            "d7433e90f09645dc9bd931d91d39c23c",
            "54e805cff92a4d29802de1cbc1c10645",
            "0a01f5fe95f84d7b869fe2cc1dbb9a85",
            "624403b5ab2346798f3409eed41aaf2b",
            "4fe9ffa3f9904c7d82fc96788634785e",
            "b7fccb02da894156a54cf4536bf38bcb",
            "64496d90b65a4874b5dea1f393320a7c",
            "ba57be0209ac4576bcac9ca8fbca73c8",
            "9f92fa886fea4176b096996272fde487",
            "271d82c71f4b4191988318c05690e443",
            "02a6074d5a084a7d90ceb87704061275",
            "4cd8d4dc951e4651814a552f1920beae",
            "63ec63e385d345eab62fca19a9690a0e",
            "664009658f6142f0aa9e7df62b04c081",
            "0b36f1ffe70a4490939f1d92761fc9ac",
            "2f5051257b5d43ffbc4f01553fca12b6",
            "9216aac78f4c4c6fa5e42f28e39bfcef",
            "0ea76d8ce79642df83049895c53f56c0",
            "2e7580a4712345e091d28a71d8ac3fc5",
            "e761295e0c634ef39b26a8510f2579eb"
          ]
        },
        "id": "PsVmy702197a",
        "outputId": "3b020dbb-735d-472a-d77e-9c57aa009a19"
      },
      "execution_count": null,
      "outputs": [
        {
          "output_type": "display_data",
          "data": {
            "text/plain": [
              "Downloading (…)okenizer_config.json:   0%|          | 0.00/379 [00:00<?, ?B/s]"
            ],
            "application/vnd.jupyter.widget-view+json": {
              "version_major": 2,
              "version_minor": 0,
              "model_id": "6065f95cb7764fb68dc5d570738fe679"
            }
          },
          "metadata": {}
        },
        {
          "output_type": "display_data",
          "data": {
            "text/plain": [
              "Downloading (…)solve/main/vocab.txt:   0%|          | 0.00/1.08M [00:00<?, ?B/s]"
            ],
            "application/vnd.jupyter.widget-view+json": {
              "version_major": 2,
              "version_minor": 0,
              "model_id": "8708717291bf4db990a3db67011a295f"
            }
          },
          "metadata": {}
        },
        {
          "output_type": "display_data",
          "data": {
            "text/plain": [
              "Downloading (…)/main/tokenizer.json:   0%|          | 0.00/1.74M [00:00<?, ?B/s]"
            ],
            "application/vnd.jupyter.widget-view+json": {
              "version_major": 2,
              "version_minor": 0,
              "model_id": "e639c8814eb64388a9cd63a693507049"
            }
          },
          "metadata": {}
        },
        {
          "output_type": "display_data",
          "data": {
            "text/plain": [
              "Downloading (…)cial_tokens_map.json:   0%|          | 0.00/112 [00:00<?, ?B/s]"
            ],
            "application/vnd.jupyter.widget-view+json": {
              "version_major": 2,
              "version_minor": 0,
              "model_id": "ba87bad88fc747e5aa20ed167f5706d3"
            }
          },
          "metadata": {}
        },
        {
          "output_type": "display_data",
          "data": {
            "text/plain": [
              "Downloading (…)lve/main/config.json:   0%|          | 0.00/1.01k [00:00<?, ?B/s]"
            ],
            "application/vnd.jupyter.widget-view+json": {
              "version_major": 2,
              "version_minor": 0,
              "model_id": "e7d7583759dc4d7bbca1ad1966f54e10"
            }
          },
          "metadata": {}
        },
        {
          "output_type": "display_data",
          "data": {
            "text/plain": [
              "Downloading model.safetensors:   0%|          | 0.00/117M [00:00<?, ?B/s]"
            ],
            "application/vnd.jupyter.widget-view+json": {
              "version_major": 2,
              "version_minor": 0,
              "model_id": "271d82c71f4b4191988318c05690e443"
            }
          },
          "metadata": {}
        }
      ]
    },
    {
      "cell_type": "code",
      "execution_count": null,
      "metadata": {
        "id": "3F8HInf9FaUJ"
      },
      "outputs": [],
      "source": [
        "def get_emotions(text):\n",
        "\n",
        "    inputs = tokenizer(text, return_tensors='pt')\n",
        "    with torch.no_grad():\n",
        "        logits = model(**inputs).logits\n",
        "    topk_values, topk_indices = logits.topk(2)\n",
        "    predicted_class_ids = topk_indices\n",
        "    label_first = model.config.id2label[predicted_class_ids[0][0].item()]\n",
        "    label_second = model.config.id2label[predicted_class_ids[0][1].item()]\n",
        "\n",
        "    return ' '.join([label_first, label_second])"
      ]
    },
    {
      "cell_type": "code",
      "execution_count": null,
      "metadata": {
        "id": "R6qkzZTEG6Pe"
      },
      "outputs": [],
      "source": [
        "sent_label = gt['comment_text'].apply(get_emotions)\n",
        "gt['emotion'] = sent_label"
      ]
    },
    {
      "cell_type": "code",
      "execution_count": null,
      "metadata": {
        "colab": {
          "base_uri": "https://localhost:8080/"
        },
        "id": "lDcN1jWqH10u",
        "outputId": "afc42fa0-a590-46c3-998f-6fb77ea4465f"
      },
      "outputs": [
        {
          "output_type": "execute_result",
          "data": {
            "text/plain": [
              "emotion            \n",
              "no_emotion anger       27\n",
              "anger sadness           9\n",
              "no_emotion fear         8\n",
              "no_emotion sadness      7\n",
              "sadness anger           7\n",
              "anger surprise          6\n",
              "no_emotion surprise     6\n",
              "sadness fear            5\n",
              "surprise anger          4\n",
              "fear sadness            4\n",
              "fear surprise           4\n",
              "sadness no_emotion      3\n",
              "anger fear              3\n",
              "anger no_emotion        3\n",
              "joy anger               3\n",
              "fear no_emotion         3\n",
              "no_emotion joy          1\n",
              "joy no_emotion          1\n",
              "sadness joy             1\n",
              "surprise fear           1\n",
              "surprise joy            1\n",
              "dtype: int64"
            ]
          },
          "metadata": {},
          "execution_count": 40
        }
      ],
      "source": [
        "gt[['emotion']].value_counts()"
      ]
    },
    {
      "cell_type": "code",
      "source": [
        "sent_label = comments_text['tokens'].apply(get_emotions)\n",
        "comments_text['emotion'] = sent_label"
      ],
      "metadata": {
        "id": "onGDokRP9juP"
      },
      "execution_count": null,
      "outputs": []
    },
    {
      "cell_type": "markdown",
      "metadata": {
        "id": "PRh399dJNUkV"
      },
      "source": [
        "---"
      ]
    },
    {
      "cell_type": "markdown",
      "metadata": {
        "id": "MCgaKf4-o3QG"
      },
      "source": [
        "### Snorkel"
      ]
    },
    {
      "cell_type": "code",
      "execution_count": null,
      "metadata": {
        "id": "Aa43n0wI3W97"
      },
      "outputs": [],
      "source": [
        "CATASTROPHIZING = 1\n",
        "ABSTAIN = 0"
      ]
    },
    {
      "cell_type": "code",
      "execution_count": null,
      "metadata": {
        "id": "1CFma6DKtFJ3"
      },
      "outputs": [],
      "source": [
        "catast_regex = re.compile(\n",
        "'(ничего|никогда)\\sне\\sполучится|это\\sкатастрофа|(надо|нужно|срочно)\\s(бежать|уезжать|валить)|\\\n",
        "конец\\sсвета|ждет\\s(смерть|развал|крах)|будет\\s(паника|истерика)|конец\\sсвета|\\\n",
        "в\\sотчаянии|\\s(это|нам)\\s(страшно|конец)|никто\\sне\\sпоможет|(нас)\\sждет|все\\sкончено|\\\n",
        "(сойду|сойти|сошли)\\sс\\sума|это\\sсамое\\sстрашное|не\\s(вынести|пережить)|(очень)\\sстрашно|\\\n",
        "вс[её]\\sпропало|не\\s(помогут|поможет|смогут\\sпомочь)|(умрем|погибнем)|нас\\sвсех|больше\\sникогда|\\\n",
        "(что|это)\\sпроисходит|нас\\sубивают|(станем|станут|станете)\\sрабами|очень\\sплохо|\\\n",
        "мы\\s(пропали|пропадем|катимся)|(нет|никаких)\\s(надежд|надежды)|(будет|идет)\\s(паника|истерика)|\\\n",
        "ужасная\\sсудьба'\n",
        ")\n",
        "\n",
        "@labeling_function()\n",
        "def lf_regex_catast(x):\n",
        "    return CATASTROPHIZING if re.search(catast_regex, x.comment_text.lower()) != None else ABSTAIN\n",
        "\n",
        "@labeling_function()\n",
        "def lf_keywords_catast(x):\n",
        "    keywords_catast = ['катастрофа', 'ужас', 'ужасно', 'конец', 'проблема',\n",
        "                       'паника', 'истерика', 'невозможно', 'гибель', 'трагедия',\n",
        "                       'кончено', 'страх', 'умереть', 'геноцид', 'смерть', 'бояться',\n",
        "                       'пережить', 'страшно', 'пропасть', 'крах', 'необратимый',\n",
        "                       'губить', 'концлагерь', 'шок', 'кошмар', 'истребить',\n",
        "                       'катастрофический', 'фатальный', 'непоправимый', 'ужасающий',\n",
        "                       'хаос', 'хаотичный', 'пугающий', 'безнадежный', 'кошмарный']\n",
        "    return CATASTROPHIZING if any(token in x.normalized_tokens for token in keywords_catast) else ABSTAIN\n",
        "\n",
        "\n",
        "@labeling_function()\n",
        "def lf_emotion_catast(x):\n",
        "    return CATASTROPHIZING if x.sentiment in ('negative', 'neutral') and x.emotion in ['sadness fear', 'fear sadness',\n",
        "                                                                                       'anger sadness', 'sadness anger',\n",
        "                                                                                       'no_emotion fear', 'fear no_emotion',\n",
        "                                                                                       'no_emotion anger', 'anger no_emotion'] else ABSTAIN"
      ]
    },
    {
      "cell_type": "code",
      "source": [
        "comments_text_rdd = comments_text.to_spark().rdd"
      ],
      "metadata": {
        "id": "bfRkn2OLGU6v"
      },
      "execution_count": null,
      "outputs": []
    },
    {
      "cell_type": "code",
      "execution_count": null,
      "metadata": {
        "colab": {
          "base_uri": "https://localhost:8080/"
        },
        "id": "NVeRV9L5ZbUM",
        "outputId": "6418b9d4-2e6e-41e9-bf9e-bcdf695493cb"
      },
      "outputs": [
        {
          "output_type": "stream",
          "name": "stderr",
          "text": [
            "100%|██████████| 107/107 [00:00<00:00, 2843.20it/s]\n"
          ]
        }
      ],
      "source": [
        "lfs = [lf_keywords_catast, lf_regex_catast, lf_emotion_catast]\n",
        "\n",
        "applier = PandasLFApplier(lfs=lfs)\n",
        "L_train = SparkLFApplier(lfs=lfs).apply(comments_text_rdd)\n",
        "L_dev = applier.apply(df=gt)"
      ]
    },
    {
      "cell_type": "code",
      "source": [
        "gt['is_catastrophizing'] = 1"
      ],
      "metadata": {
        "id": "8nOu-Y_-MHEM"
      },
      "execution_count": null,
      "outputs": []
    },
    {
      "cell_type": "code",
      "execution_count": null,
      "metadata": {
        "colab": {
          "base_uri": "https://localhost:8080/"
        },
        "id": "gmX0XW-dbZnb",
        "outputId": "95b4e593-2e17-4dbe-af6f-4d12c598f4c4"
      },
      "outputs": [
        {
          "output_type": "execute_result",
          "data": {
            "text/plain": [
              "                    j Polarity  Coverage  Overlaps  Conflicts  Correct  \\\n",
              "lf_keywords_catast  0   [0, 1]       1.0       1.0   0.775701       60   \n",
              "lf_regex_catast     1   [0, 1]       1.0       1.0   0.775701       45   \n",
              "lf_emotion_catast   2   [0, 1]       1.0       1.0   0.775701       62   \n",
              "\n",
              "                    Incorrect  Emp. Acc.  \n",
              "lf_keywords_catast         47   0.560748  \n",
              "lf_regex_catast            62   0.420561  \n",
              "lf_emotion_catast          45   0.579439  "
            ],
            "text/html": [
              "\n",
              "  <div id=\"df-7f2396fe-9794-4872-a1be-34399fd3fd68\">\n",
              "    <div class=\"colab-df-container\">\n",
              "      <div>\n",
              "<style scoped>\n",
              "    .dataframe tbody tr th:only-of-type {\n",
              "        vertical-align: middle;\n",
              "    }\n",
              "\n",
              "    .dataframe tbody tr th {\n",
              "        vertical-align: top;\n",
              "    }\n",
              "\n",
              "    .dataframe thead th {\n",
              "        text-align: right;\n",
              "    }\n",
              "</style>\n",
              "<table border=\"1\" class=\"dataframe\">\n",
              "  <thead>\n",
              "    <tr style=\"text-align: right;\">\n",
              "      <th></th>\n",
              "      <th>j</th>\n",
              "      <th>Polarity</th>\n",
              "      <th>Coverage</th>\n",
              "      <th>Overlaps</th>\n",
              "      <th>Conflicts</th>\n",
              "      <th>Correct</th>\n",
              "      <th>Incorrect</th>\n",
              "      <th>Emp. Acc.</th>\n",
              "    </tr>\n",
              "  </thead>\n",
              "  <tbody>\n",
              "    <tr>\n",
              "      <th>lf_keywords_catast</th>\n",
              "      <td>0</td>\n",
              "      <td>[0, 1]</td>\n",
              "      <td>1.0</td>\n",
              "      <td>1.0</td>\n",
              "      <td>0.775701</td>\n",
              "      <td>60</td>\n",
              "      <td>47</td>\n",
              "      <td>0.560748</td>\n",
              "    </tr>\n",
              "    <tr>\n",
              "      <th>lf_regex_catast</th>\n",
              "      <td>1</td>\n",
              "      <td>[0, 1]</td>\n",
              "      <td>1.0</td>\n",
              "      <td>1.0</td>\n",
              "      <td>0.775701</td>\n",
              "      <td>45</td>\n",
              "      <td>62</td>\n",
              "      <td>0.420561</td>\n",
              "    </tr>\n",
              "    <tr>\n",
              "      <th>lf_emotion_catast</th>\n",
              "      <td>2</td>\n",
              "      <td>[0, 1]</td>\n",
              "      <td>1.0</td>\n",
              "      <td>1.0</td>\n",
              "      <td>0.775701</td>\n",
              "      <td>62</td>\n",
              "      <td>45</td>\n",
              "      <td>0.579439</td>\n",
              "    </tr>\n",
              "  </tbody>\n",
              "</table>\n",
              "</div>\n",
              "      <button class=\"colab-df-convert\" onclick=\"convertToInteractive('df-7f2396fe-9794-4872-a1be-34399fd3fd68')\"\n",
              "              title=\"Convert this dataframe to an interactive table.\"\n",
              "              style=\"display:none;\">\n",
              "        \n",
              "  <svg xmlns=\"http://www.w3.org/2000/svg\" height=\"24px\"viewBox=\"0 0 24 24\"\n",
              "       width=\"24px\">\n",
              "    <path d=\"M0 0h24v24H0V0z\" fill=\"none\"/>\n",
              "    <path d=\"M18.56 5.44l.94 2.06.94-2.06 2.06-.94-2.06-.94-.94-2.06-.94 2.06-2.06.94zm-11 1L8.5 8.5l.94-2.06 2.06-.94-2.06-.94L8.5 2.5l-.94 2.06-2.06.94zm10 10l.94 2.06.94-2.06 2.06-.94-2.06-.94-.94-2.06-.94 2.06-2.06.94z\"/><path d=\"M17.41 7.96l-1.37-1.37c-.4-.4-.92-.59-1.43-.59-.52 0-1.04.2-1.43.59L10.3 9.45l-7.72 7.72c-.78.78-.78 2.05 0 2.83L4 21.41c.39.39.9.59 1.41.59.51 0 1.02-.2 1.41-.59l7.78-7.78 2.81-2.81c.8-.78.8-2.07 0-2.86zM5.41 20L4 18.59l7.72-7.72 1.47 1.35L5.41 20z\"/>\n",
              "  </svg>\n",
              "      </button>\n",
              "      \n",
              "  <style>\n",
              "    .colab-df-container {\n",
              "      display:flex;\n",
              "      flex-wrap:wrap;\n",
              "      gap: 12px;\n",
              "    }\n",
              "\n",
              "    .colab-df-convert {\n",
              "      background-color: #E8F0FE;\n",
              "      border: none;\n",
              "      border-radius: 50%;\n",
              "      cursor: pointer;\n",
              "      display: none;\n",
              "      fill: #1967D2;\n",
              "      height: 32px;\n",
              "      padding: 0 0 0 0;\n",
              "      width: 32px;\n",
              "    }\n",
              "\n",
              "    .colab-df-convert:hover {\n",
              "      background-color: #E2EBFA;\n",
              "      box-shadow: 0px 1px 2px rgba(60, 64, 67, 0.3), 0px 1px 3px 1px rgba(60, 64, 67, 0.15);\n",
              "      fill: #174EA6;\n",
              "    }\n",
              "\n",
              "    [theme=dark] .colab-df-convert {\n",
              "      background-color: #3B4455;\n",
              "      fill: #D2E3FC;\n",
              "    }\n",
              "\n",
              "    [theme=dark] .colab-df-convert:hover {\n",
              "      background-color: #434B5C;\n",
              "      box-shadow: 0px 1px 3px 1px rgba(0, 0, 0, 0.15);\n",
              "      filter: drop-shadow(0px 1px 2px rgba(0, 0, 0, 0.3));\n",
              "      fill: #FFFFFF;\n",
              "    }\n",
              "  </style>\n",
              "\n",
              "      <script>\n",
              "        const buttonEl =\n",
              "          document.querySelector('#df-7f2396fe-9794-4872-a1be-34399fd3fd68 button.colab-df-convert');\n",
              "        buttonEl.style.display =\n",
              "          google.colab.kernel.accessAllowed ? 'block' : 'none';\n",
              "\n",
              "        async function convertToInteractive(key) {\n",
              "          const element = document.querySelector('#df-7f2396fe-9794-4872-a1be-34399fd3fd68');\n",
              "          const dataTable =\n",
              "            await google.colab.kernel.invokeFunction('convertToInteractive',\n",
              "                                                     [key], {});\n",
              "          if (!dataTable) return;\n",
              "\n",
              "          const docLinkHtml = 'Like what you see? Visit the ' +\n",
              "            '<a target=\"_blank\" href=https://colab.research.google.com/notebooks/data_table.ipynb>data table notebook</a>'\n",
              "            + ' to learn more about interactive tables.';\n",
              "          element.innerHTML = '';\n",
              "          dataTable['output_type'] = 'display_data';\n",
              "          await google.colab.output.renderOutput(dataTable, element);\n",
              "          const docLink = document.createElement('div');\n",
              "          docLink.innerHTML = docLinkHtml;\n",
              "          element.appendChild(docLink);\n",
              "        }\n",
              "      </script>\n",
              "    </div>\n",
              "  </div>\n",
              "  "
            ]
          },
          "metadata": {},
          "execution_count": 47
        }
      ],
      "source": [
        "LFAnalysis(L=L_dev, lfs=lfs).lf_summary(Y=gt.is_catastrophizing.to_numpy())"
      ]
    },
    {
      "cell_type": "code",
      "execution_count": null,
      "metadata": {
        "colab": {
          "base_uri": "https://localhost:8080/"
        },
        "id": "EyxxA5Ya7RFe",
        "outputId": "b2191239-2a70-4a39-e2ed-977c08dcf45a"
      },
      "outputs": [
        {
          "output_type": "stream",
          "name": "stderr",
          "text": [
            "100%|██████████| 500/500 [00:00<00:00, 636.47epoch/s]\n"
          ]
        }
      ],
      "source": [
        "label_model = LabelModel(cardinality=2, verbose=True)\n",
        "label_model.fit(L_train, n_epochs=500, log_freq=100, seed=0)"
      ]
    },
    {
      "cell_type": "code",
      "execution_count": null,
      "metadata": {
        "id": "foChJALZ8nMq"
      },
      "outputs": [],
      "source": [
        "comments_text['is_catastrophizing'] = label_model.predict(L=L_train).tolist()"
      ]
    },
    {
      "cell_type": "code",
      "execution_count": null,
      "metadata": {
        "colab": {
          "base_uri": "https://localhost:8080/"
        },
        "id": "VK6MlmxU81qm",
        "outputId": "e0bbcf71-230e-4642-c87b-bcab017cc045"
      },
      "outputs": [
        {
          "output_type": "execute_result",
          "data": {
            "text/plain": [
              "11988"
            ]
          },
          "metadata": {},
          "execution_count": 50
        }
      ],
      "source": [
        "comments_text[comments_text['is_catastrophizing']==1]['is_catastrophizing'].count()"
      ]
    },
    {
      "cell_type": "code",
      "source": [
        "comments_text[comments_text['is_catastrophizing']==0]['is_catastrophizing'].count()"
      ],
      "metadata": {
        "colab": {
          "base_uri": "https://localhost:8080/"
        },
        "id": "pY4FjmIlWRiy",
        "outputId": "b36c5cf8-c1e8-4d2b-8bd4-b84b326e4462"
      },
      "execution_count": null,
      "outputs": [
        {
          "output_type": "execute_result",
          "data": {
            "text/plain": [
              "123303"
            ]
          },
          "metadata": {},
          "execution_count": 51
        }
      ]
    },
    {
      "cell_type": "code",
      "execution_count": null,
      "metadata": {
        "id": "bzc6ZQ08XlJW"
      },
      "outputs": [],
      "source": [
        "gt['test_labels'] = label_model.predict(L=L_dev)\n",
        "draw_gt = gt[gt['test_labels']!=-1]"
      ]
    },
    {
      "cell_type": "code",
      "execution_count": null,
      "metadata": {
        "colab": {
          "base_uri": "https://localhost:8080/"
        },
        "id": "Ggp6FiSyYQp8",
        "outputId": "dd34b6e2-7861-4ca0-fbc3-c75dc2872276"
      },
      "outputs": [
        {
          "output_type": "display_data",
          "data": {
            "text/plain": [
              "<Figure size 640x480 with 2 Axes>"
            ],
            "image/png": "[encoded data removed]"
          },
          "metadata": {}
        }
      ],
      "source": [
        "sns.heatmap(confusion_matrix(draw_gt['is_catastrophizing'], draw_gt['test_labels']),\n",
        "            annot=True,\n",
        "            fmt='g')\n",
        "plt.title('Матрица ошибок')\n",
        "plt.show()"
      ]
    },
    {
      "cell_type": "code",
      "source": [
        "print(classification_report(draw_gt['is_catastrophizing'], draw_gt['test_labels']))"
      ],
      "metadata": {
        "colab": {
          "base_uri": "https://localhost:8080/"
        },
        "id": "bGKZ706Hx_ZC",
        "outputId": "47f11d4b-dc3a-46fa-a1b0-dda5d5927d74"
      },
      "execution_count": null,
      "outputs": [
        {
          "output_type": "stream",
          "name": "stdout",
          "text": [
            "              precision    recall  f1-score   support\n",
            "\n",
            "           0       0.00      0.00      0.00         0\n",
            "           1       1.00      0.77      0.87       107\n",
            "\n",
            "    accuracy                           0.77       107\n",
            "   macro avg       0.50      0.38      0.43       107\n",
            "weighted avg       1.00      0.77      0.87       107\n",
            "\n"
          ]
        }
      ]
    },
    {
      "cell_type": "markdown",
      "source": [
        "---"
      ],
      "metadata": {
        "id": "LnsqOnE-I3gS"
      }
    },
    {
      "cell_type": "markdown",
      "source": [
        "### Балансировка датасета"
      ],
      "metadata": {
        "id": "iNU3YKXdI4Ix"
      }
    },
    {
      "cell_type": "code",
      "source": [
        "# столбчатая диаграмма количества объектов по классам в наборе данных\n",
        "comments_text['is_catastrophizing'].plot.hist(bins=2)"
      ],
      "metadata": {
        "id": "drjd84LUSxD1"
      },
      "execution_count": null,
      "outputs": []
    },
    {
      "cell_type": "code",
      "source": [
        "# minor = comments_text['is_catastrophizing'].sum()\n",
        "minor = 11988"
      ],
      "metadata": {
        "id": "ddnifT2kYMDJ"
      },
      "execution_count": 57,
      "outputs": []
    },
    {
      "cell_type": "code",
      "source": [
        "catast = comments_text[comments_text['is_catastrophizing'] == 1]\n",
        "not_catast = comments_text[comments_text['is_catastrophizing'] == 0].iloc[:minor, :]\n",
        "balanced_comments_text = ps.concat([catast, not_catast])"
      ],
      "metadata": {
        "id": "xLzM5ZNpgS-P"
      },
      "execution_count": 58,
      "outputs": []
    },
    {
      "cell_type": "code",
      "source": [
        "balanced_comments_text.shape"
      ],
      "metadata": {
        "id": "eNu3N6ingrl_"
      },
      "execution_count": null,
      "outputs": []
    },
    {
      "cell_type": "code",
      "source": [
        "# столбчатая диаграмма количества объектов по классам в сбалансированном наборе данных\n",
        "balanced_comments_text['is_catastrophizing'].plot.hist(bins=2)"
      ],
      "metadata": {
        "id": "pSSRnu7yhRHe"
      },
      "execution_count": null,
      "outputs": []
    },
    {
      "cell_type": "code",
      "source": [
        "balanced_comments_text[['comment_text', 'tokens', 'is_catastrophizing']].spark.repartition(1).to_parquet('processed_comments')"
      ],
      "metadata": {
        "id": "P9mYgLlbZP-A"
      },
      "execution_count": 59,
      "outputs": []
    },
    {
      "cell_type": "code",
      "source": [
        "gt[['comment_text', 'tokens', 'is_catastrophizing']].to_csv('processed_gt.csv')"
      ],
      "metadata": {
        "id": "3opLFZ01nuZG"
      },
      "execution_count": 60,
      "outputs": []
    }
  ],
  "metadata": {
    "colab": {
      "provenance": []
    },
    "kernelspec": {
      "display_name": "Python 3",
      "name": "python3"
    },
    "language_info": {
      "name": "python"
    },
    "widgets": {
      "application/vnd.jupyter.widget-state+json": {
        "6065f95cb7764fb68dc5d570738fe679": {
          "model_module": "@jupyter-widgets/controls",
          "model_name": "HBoxModel",
          "model_module_version": "1.5.0",
          "state": {
            "_dom_classes": [],
            "_model_module": "@jupyter-widgets/controls",
            "_model_module_version": "1.5.0",
            "_model_name": "HBoxModel",
            "_view_count": null,
            "_view_module": "@jupyter-widgets/controls",
            "_view_module_version": "1.5.0",
            "_view_name": "HBoxView",
            "box_style": "",
            "children": [
              "IPY_MODEL_5fad019a0299408a9c8c29cb3f47f558",
              "IPY_MODEL_e2c262d36d7e4fa1b04a667775ad16ec",
              "IPY_MODEL_04ea45173ce64046a8c70de381c3ce72"
            ],
            "layout": "IPY_MODEL_1e014b07191c4e069090e3e691721f16"
          }
        },
        "5fad019a0299408a9c8c29cb3f47f558": {
          "model_module": "@jupyter-widgets/controls",
          "model_name": "HTMLModel",
          "model_module_version": "1.5.0",
          "state": {
            "_dom_classes": [],
            "_model_module": "@jupyter-widgets/controls",
            "_model_module_version": "1.5.0",
            "_model_name": "HTMLModel",
            "_view_count": null,
            "_view_module": "@jupyter-widgets/controls",
            "_view_module_version": "1.5.0",
            "_view_name": "HTMLView",
            "description": "",
            "description_tooltip": null,
            "layout": "IPY_MODEL_7c8105a04bc5482392a4b494853e0334",
            "placeholder": "​",
            "style": "IPY_MODEL_ba0651874b234b438c1c1b6218e9cad3",
            "value": "Downloading (…)okenizer_config.json: 100%"
          }
        },
        "e2c262d36d7e4fa1b04a667775ad16ec": {
          "model_module": "@jupyter-widgets/controls",
          "model_name": "FloatProgressModel",
          "model_module_version": "1.5.0",
          "state": {
            "_dom_classes": [],
            "_model_module": "@jupyter-widgets/controls",
            "_model_module_version": "1.5.0",
            "_model_name": "FloatProgressModel",
            "_view_count": null,
            "_view_module": "@jupyter-widgets/controls",
            "_view_module_version": "1.5.0",
            "_view_name": "ProgressView",
            "bar_style": "success",
            "description": "",
            "description_tooltip": null,
            "layout": "IPY_MODEL_75d665a25f93451cbe3d78a1971408de",
            "max": 379,
            "min": 0,
            "orientation": "horizontal",
            "style": "IPY_MODEL_8e18f5302cdb40aba9a6d092fa6b4bcb",
            "value": 379
          }
        },
        "04ea45173ce64046a8c70de381c3ce72": {
          "model_module": "@jupyter-widgets/controls",
          "model_name": "HTMLModel",
          "model_module_version": "1.5.0",
          "state": {
            "_dom_classes": [],
            "_model_module": "@jupyter-widgets/controls",
            "_model_module_version": "1.5.0",
            "_model_name": "HTMLModel",
            "_view_count": null,
            "_view_module": "@jupyter-widgets/controls",
            "_view_module_version": "1.5.0",
            "_view_name": "HTMLView",
            "description": "",
            "description_tooltip": null,
            "layout": "IPY_MODEL_ab1add3babaf407094aedd08df15f504",
            "placeholder": "​",
            "style": "IPY_MODEL_e32b51a2d9364682a04f8c669fbc8e32",
            "value": " 379/379 [00:00&lt;00:00, 13.0kB/s]"
          }
        },
        "1e014b07191c4e069090e3e691721f16": {
          "model_module": "@jupyter-widgets/base",
          "model_name": "LayoutModel",
          "model_module_version": "1.2.0",
          "state": {
            "_model_module": "@jupyter-widgets/base",
            "_model_module_version": "1.2.0",
            "_model_name": "LayoutModel",
            "_view_count": null,
            "_view_module": "@jupyter-widgets/base",
            "_view_module_version": "1.2.0",
            "_view_name": "LayoutView",
            "align_content": null,
            "align_items": null,
            "align_self": null,
            "border": null,
            "bottom": null,
            "display": null,
            "flex": null,
            "flex_flow": null,
            "grid_area": null,
            "grid_auto_columns": null,
            "grid_auto_flow": null,
            "grid_auto_rows": null,
            "grid_column": null,
            "grid_gap": null,
            "grid_row": null,
            "grid_template_areas": null,
            "grid_template_columns": null,
            "grid_template_rows": null,
            "height": null,
            "justify_content": null,
            "justify_items": null,
            "left": null,
            "margin": null,
            "max_height": null,
            "max_width": null,
            "min_height": null,
            "min_width": null,
            "object_fit": null,
            "object_position": null,
            "order": null,
            "overflow": null,
            "overflow_x": null,
            "overflow_y": null,
            "padding": null,
            "right": null,
            "top": null,
            "visibility": null,
            "width": null
          }
        },
        "7c8105a04bc5482392a4b494853e0334": {
          "model_module": "@jupyter-widgets/base",
          "model_name": "LayoutModel",
          "model_module_version": "1.2.0",
          "state": {
            "_model_module": "@jupyter-widgets/base",
            "_model_module_version": "1.2.0",
            "_model_name": "LayoutModel",
            "_view_count": null,
            "_view_module": "@jupyter-widgets/base",
            "_view_module_version": "1.2.0",
            "_view_name": "LayoutView",
            "align_content": null,
            "align_items": null,
            "align_self": null,
            "border": null,
            "bottom": null,
            "display": null,
            "flex": null,
            "flex_flow": null,
            "grid_area": null,
            "grid_auto_columns": null,
            "grid_auto_flow": null,
            "grid_auto_rows": null,
            "grid_column": null,
            "grid_gap": null,
            "grid_row": null,
            "grid_template_areas": null,
            "grid_template_columns": null,
            "grid_template_rows": null,
            "height": null,
            "justify_content": null,
            "justify_items": null,
            "left": null,
            "margin": null,
            "max_height": null,
            "max_width": null,
            "min_height": null,
            "min_width": null,
            "object_fit": null,
            "object_position": null,
            "order": null,
            "overflow": null,
            "overflow_x": null,
            "overflow_y": null,
            "padding": null,
            "right": null,
            "top": null,
            "visibility": null,
            "width": null
          }
        },
        "ba0651874b234b438c1c1b6218e9cad3": {
          "model_module": "@jupyter-widgets/controls",
          "model_name": "DescriptionStyleModel",
          "model_module_version": "1.5.0",
          "state": {
            "_model_module": "@jupyter-widgets/controls",
            "_model_module_version": "1.5.0",
            "_model_name": "DescriptionStyleModel",
            "_view_count": null,
            "_view_module": "@jupyter-widgets/base",
            "_view_module_version": "1.2.0",
            "_view_name": "StyleView",
            "description_width": ""
          }
        },
        "75d665a25f93451cbe3d78a1971408de": {
          "model_module": "@jupyter-widgets/base",
          "model_name": "LayoutModel",
          "model_module_version": "1.2.0",
          "state": {
            "_model_module": "@jupyter-widgets/base",
            "_model_module_version": "1.2.0",
            "_model_name": "LayoutModel",
            "_view_count": null,
            "_view_module": "@jupyter-widgets/base",
            "_view_module_version": "1.2.0",
            "_view_name": "LayoutView",
            "align_content": null,
            "align_items": null,
            "align_self": null,
            "border": null,
            "bottom": null,
            "display": null,
            "flex": null,
            "flex_flow": null,
            "grid_area": null,
            "grid_auto_columns": null,
            "grid_auto_flow": null,
            "grid_auto_rows": null,
            "grid_column": null,
            "grid_gap": null,
            "grid_row": null,
            "grid_template_areas": null,
            "grid_template_columns": null,
            "grid_template_rows": null,
            "height": null,
            "justify_content": null,
            "justify_items": null,
            "left": null,
            "margin": null,
            "max_height": null,
            "max_width": null,
            "min_height": null,
            "min_width": null,
            "object_fit": null,
            "object_position": null,
            "order": null,
            "overflow": null,
            "overflow_x": null,
            "overflow_y": null,
            "padding": null,
            "right": null,
            "top": null,
            "visibility": null,
            "width": null
          }
        },
        "8e18f5302cdb40aba9a6d092fa6b4bcb": {
          "model_module": "@jupyter-widgets/controls",
          "model_name": "ProgressStyleModel",
          "model_module_version": "1.5.0",
          "state": {
            "_model_module": "@jupyter-widgets/controls",
            "_model_module_version": "1.5.0",
            "_model_name": "ProgressStyleModel",
            "_view_count": null,
            "_view_module": "@jupyter-widgets/base",
            "_view_module_version": "1.2.0",
            "_view_name": "StyleView",
            "bar_color": null,
            "description_width": ""
          }
        },
        "ab1add3babaf407094aedd08df15f504": {
          "model_module": "@jupyter-widgets/base",
          "model_name": "LayoutModel",
          "model_module_version": "1.2.0",
          "state": {
            "_model_module": "@jupyter-widgets/base",
            "_model_module_version": "1.2.0",
            "_model_name": "LayoutModel",
            "_view_count": null,
            "_view_module": "@jupyter-widgets/base",
            "_view_module_version": "1.2.0",
            "_view_name": "LayoutView",
            "align_content": null,
            "align_items": null,
            "align_self": null,
            "border": null,
            "bottom": null,
            "display": null,
            "flex": null,
            "flex_flow": null,
            "grid_area": null,
            "grid_auto_columns": null,
            "grid_auto_flow": null,
            "grid_auto_rows": null,
            "grid_column": null,
            "grid_gap": null,
            "grid_row": null,
            "grid_template_areas": null,
            "grid_template_columns": null,
            "grid_template_rows": null,
            "height": null,
            "justify_content": null,
            "justify_items": null,
            "left": null,
            "margin": null,
            "max_height": null,
            "max_width": null,
            "min_height": null,
            "min_width": null,
            "object_fit": null,
            "object_position": null,
            "order": null,
            "overflow": null,
            "overflow_x": null,
            "overflow_y": null,
            "padding": null,
            "right": null,
            "top": null,
            "visibility": null,
            "width": null
          }
        },
        "e32b51a2d9364682a04f8c669fbc8e32": {
          "model_module": "@jupyter-widgets/controls",
          "model_name": "DescriptionStyleModel",
          "model_module_version": "1.5.0",
          "state": {
            "_model_module": "@jupyter-widgets/controls",
            "_model_module_version": "1.5.0",
            "_model_name": "DescriptionStyleModel",
            "_view_count": null,
            "_view_module": "@jupyter-widgets/base",
            "_view_module_version": "1.2.0",
            "_view_name": "StyleView",
            "description_width": ""
          }
        },
        "8708717291bf4db990a3db67011a295f": {
          "model_module": "@jupyter-widgets/controls",
          "model_name": "HBoxModel",
          "model_module_version": "1.5.0",
          "state": {
            "_dom_classes": [],
            "_model_module": "@jupyter-widgets/controls",
            "_model_module_version": "1.5.0",
            "_model_name": "HBoxModel",
            "_view_count": null,
            "_view_module": "@jupyter-widgets/controls",
            "_view_module_version": "1.5.0",
            "_view_name": "HBoxView",
            "box_style": "",
            "children": [
              "IPY_MODEL_2c4210707b774f2fac7402552d48c104",
              "IPY_MODEL_29eeaadb54534eebbc1fead689ad93fe",
              "IPY_MODEL_56245d2d45544b279ad2bb808c7743f8"
            ],
            "layout": "IPY_MODEL_26351ad4dd26416cae94f915ca9318ef"
          }
        },
        "2c4210707b774f2fac7402552d48c104": {
          "model_module": "@jupyter-widgets/controls",
          "model_name": "HTMLModel",
          "model_module_version": "1.5.0",
          "state": {
            "_dom_classes": [],
            "_model_module": "@jupyter-widgets/controls",
            "_model_module_version": "1.5.0",
            "_model_name": "HTMLModel",
            "_view_count": null,
            "_view_module": "@jupyter-widgets/controls",
            "_view_module_version": "1.5.0",
            "_view_name": "HTMLView",
            "description": "",
            "description_tooltip": null,
            "layout": "IPY_MODEL_a5118c0eeaa3454fa1e9bdc99eea7ce9",
            "placeholder": "​",
            "style": "IPY_MODEL_5af8314f0aaf4eb081b804b99c3dc4e4",
            "value": "Downloading (…)solve/main/vocab.txt: 100%"
          }
        },
        "29eeaadb54534eebbc1fead689ad93fe": {
          "model_module": "@jupyter-widgets/controls",
          "model_name": "FloatProgressModel",
          "model_module_version": "1.5.0",
          "state": {
            "_dom_classes": [],
            "_model_module": "@jupyter-widgets/controls",
            "_model_module_version": "1.5.0",
            "_model_name": "FloatProgressModel",
            "_view_count": null,
            "_view_module": "@jupyter-widgets/controls",
            "_view_module_version": "1.5.0",
            "_view_name": "ProgressView",
            "bar_style": "success",
            "description": "",
            "description_tooltip": null,
            "layout": "IPY_MODEL_7b3842ad96d743ad92197cb514a21383",
            "max": 1080667,
            "min": 0,
            "orientation": "horizontal",
            "style": "IPY_MODEL_c5f817800de841b9a1757f80370b099e",
            "value": 1080667
          }
        },
        "56245d2d45544b279ad2bb808c7743f8": {
          "model_module": "@jupyter-widgets/controls",
          "model_name": "HTMLModel",
          "model_module_version": "1.5.0",
          "state": {
            "_dom_classes": [],
            "_model_module": "@jupyter-widgets/controls",
            "_model_module_version": "1.5.0",
            "_model_name": "HTMLModel",
            "_view_count": null,
            "_view_module": "@jupyter-widgets/controls",
            "_view_module_version": "1.5.0",
            "_view_name": "HTMLView",
            "description": "",
            "description_tooltip": null,
            "layout": "IPY_MODEL_1305e63d9549497c80dcc25927f79de4",
            "placeholder": "​",
            "style": "IPY_MODEL_b7ff386a4af049dfaca155800e410126",
            "value": " 1.08M/1.08M [00:00&lt;00:00, 8.28MB/s]"
          }
        },
        "26351ad4dd26416cae94f915ca9318ef": {
          "model_module": "@jupyter-widgets/base",
          "model_name": "LayoutModel",
          "model_module_version": "1.2.0",
          "state": {
            "_model_module": "@jupyter-widgets/base",
            "_model_module_version": "1.2.0",
            "_model_name": "LayoutModel",
            "_view_count": null,
            "_view_module": "@jupyter-widgets/base",
            "_view_module_version": "1.2.0",
            "_view_name": "LayoutView",
            "align_content": null,
            "align_items": null,
            "align_self": null,
            "border": null,
            "bottom": null,
            "display": null,
            "flex": null,
            "flex_flow": null,
            "grid_area": null,
            "grid_auto_columns": null,
            "grid_auto_flow": null,
            "grid_auto_rows": null,
            "grid_column": null,
            "grid_gap": null,
            "grid_row": null,
            "grid_template_areas": null,
            "grid_template_columns": null,
            "grid_template_rows": null,
            "height": null,
            "justify_content": null,
            "justify_items": null,
            "left": null,
            "margin": null,
            "max_height": null,
            "max_width": null,
            "min_height": null,
            "min_width": null,
            "object_fit": null,
            "object_position": null,
            "order": null,
            "overflow": null,
            "overflow_x": null,
            "overflow_y": null,
            "padding": null,
            "right": null,
            "top": null,
            "visibility": null,
            "width": null
          }
        },
        "a5118c0eeaa3454fa1e9bdc99eea7ce9": {
          "model_module": "@jupyter-widgets/base",
          "model_name": "LayoutModel",
          "model_module_version": "1.2.0",
          "state": {
            "_model_module": "@jupyter-widgets/base",
            "_model_module_version": "1.2.0",
            "_model_name": "LayoutModel",
            "_view_count": null,
            "_view_module": "@jupyter-widgets/base",
            "_view_module_version": "1.2.0",
            "_view_name": "LayoutView",
            "align_content": null,
            "align_items": null,
            "align_self": null,
            "border": null,
            "bottom": null,
            "display": null,
            "flex": null,
            "flex_flow": null,
            "grid_area": null,
            "grid_auto_columns": null,
            "grid_auto_flow": null,
            "grid_auto_rows": null,
            "grid_column": null,
            "grid_gap": null,
            "grid_row": null,
            "grid_template_areas": null,
            "grid_template_columns": null,
            "grid_template_rows": null,
            "height": null,
            "justify_content": null,
            "justify_items": null,
            "left": null,
            "margin": null,
            "max_height": null,
            "max_width": null,
            "min_height": null,
            "min_width": null,
            "object_fit": null,
            "object_position": null,
            "order": null,
            "overflow": null,
            "overflow_x": null,
            "overflow_y": null,
            "padding": null,
            "right": null,
            "top": null,
            "visibility": null,
            "width": null
          }
        },
        "5af8314f0aaf4eb081b804b99c3dc4e4": {
          "model_module": "@jupyter-widgets/controls",
          "model_name": "DescriptionStyleModel",
          "model_module_version": "1.5.0",
          "state": {
            "_model_module": "@jupyter-widgets/controls",
            "_model_module_version": "1.5.0",
            "_model_name": "DescriptionStyleModel",
            "_view_count": null,
            "_view_module": "@jupyter-widgets/base",
            "_view_module_version": "1.2.0",
            "_view_name": "StyleView",
            "description_width": ""
          }
        },
        "7b3842ad96d743ad92197cb514a21383": {
          "model_module": "@jupyter-widgets/base",
          "model_name": "LayoutModel",
          "model_module_version": "1.2.0",
          "state": {
            "_model_module": "@jupyter-widgets/base",
            "_model_module_version": "1.2.0",
            "_model_name": "LayoutModel",
            "_view_count": null,
            "_view_module": "@jupyter-widgets/base",
            "_view_module_version": "1.2.0",
            "_view_name": "LayoutView",
            "align_content": null,
            "align_items": null,
            "align_self": null,
            "border": null,
            "bottom": null,
            "display": null,
            "flex": null,
            "flex_flow": null,
            "grid_area": null,
            "grid_auto_columns": null,
            "grid_auto_flow": null,
            "grid_auto_rows": null,
            "grid_column": null,
            "grid_gap": null,
            "grid_row": null,
            "grid_template_areas": null,
            "grid_template_columns": null,
            "grid_template_rows": null,
            "height": null,
            "justify_content": null,
            "justify_items": null,
            "left": null,
            "margin": null,
            "max_height": null,
            "max_width": null,
            "min_height": null,
            "min_width": null,
            "object_fit": null,
            "object_position": null,
            "order": null,
            "overflow": null,
            "overflow_x": null,
            "overflow_y": null,
            "padding": null,
            "right": null,
            "top": null,
            "visibility": null,
            "width": null
          }
        },
        "c5f817800de841b9a1757f80370b099e": {
          "model_module": "@jupyter-widgets/controls",
          "model_name": "ProgressStyleModel",
          "model_module_version": "1.5.0",
          "state": {
            "_model_module": "@jupyter-widgets/controls",
            "_model_module_version": "1.5.0",
            "_model_name": "ProgressStyleModel",
            "_view_count": null,
            "_view_module": "@jupyter-widgets/base",
            "_view_module_version": "1.2.0",
            "_view_name": "StyleView",
            "bar_color": null,
            "description_width": ""
          }
        },
        "1305e63d9549497c80dcc25927f79de4": {
          "model_module": "@jupyter-widgets/base",
          "model_name": "LayoutModel",
          "model_module_version": "1.2.0",
          "state": {
            "_model_module": "@jupyter-widgets/base",
            "_model_module_version": "1.2.0",
            "_model_name": "LayoutModel",
            "_view_count": null,
            "_view_module": "@jupyter-widgets/base",
            "_view_module_version": "1.2.0",
            "_view_name": "LayoutView",
            "align_content": null,
            "align_items": null,
            "align_self": null,
            "border": null,
            "bottom": null,
            "display": null,
            "flex": null,
            "flex_flow": null,
            "grid_area": null,
            "grid_auto_columns": null,
            "grid_auto_flow": null,
            "grid_auto_rows": null,
            "grid_column": null,
            "grid_gap": null,
            "grid_row": null,
            "grid_template_areas": null,
            "grid_template_columns": null,
            "grid_template_rows": null,
            "height": null,
            "justify_content": null,
            "justify_items": null,
            "left": null,
            "margin": null,
            "max_height": null,
            "max_width": null,
            "min_height": null,
            "min_width": null,
            "object_fit": null,
            "object_position": null,
            "order": null,
            "overflow": null,
            "overflow_x": null,
            "overflow_y": null,
            "padding": null,
            "right": null,
            "top": null,
            "visibility": null,
            "width": null
          }
        },
        "b7ff386a4af049dfaca155800e410126": {
          "model_module": "@jupyter-widgets/controls",
          "model_name": "DescriptionStyleModel",
          "model_module_version": "1.5.0",
          "state": {
            "_model_module": "@jupyter-widgets/controls",
            "_model_module_version": "1.5.0",
            "_model_name": "DescriptionStyleModel",
            "_view_count": null,
            "_view_module": "@jupyter-widgets/base",
            "_view_module_version": "1.2.0",
            "_view_name": "StyleView",
            "description_width": ""
          }
        },
        "e639c8814eb64388a9cd63a693507049": {
          "model_module": "@jupyter-widgets/controls",
          "model_name": "HBoxModel",
          "model_module_version": "1.5.0",
          "state": {
            "_dom_classes": [],
            "_model_module": "@jupyter-widgets/controls",
            "_model_module_version": "1.5.0",
            "_model_name": "HBoxModel",
            "_view_count": null,
            "_view_module": "@jupyter-widgets/controls",
            "_view_module_version": "1.5.0",
            "_view_name": "HBoxView",
            "box_style": "",
            "children": [
              "IPY_MODEL_83275714d26e44c487ca8b0670e1a9b7",
              "IPY_MODEL_60d423e79f2446bbbc8854772b4bbdbb",
              "IPY_MODEL_f5ba09b8602f40b4b2e156f43e9750b6"
            ],
            "layout": "IPY_MODEL_c7d08c7746be4041893991d7d03f602d"
          }
        },
        "83275714d26e44c487ca8b0670e1a9b7": {
          "model_module": "@jupyter-widgets/controls",
          "model_name": "HTMLModel",
          "model_module_version": "1.5.0",
          "state": {
            "_dom_classes": [],
            "_model_module": "@jupyter-widgets/controls",
            "_model_module_version": "1.5.0",
            "_model_name": "HTMLModel",
            "_view_count": null,
            "_view_module": "@jupyter-widgets/controls",
            "_view_module_version": "1.5.0",
            "_view_name": "HTMLView",
            "description": "",
            "description_tooltip": null,
            "layout": "IPY_MODEL_adeb097e66e54f0b86cd3fc6aa6d7ad1",
            "placeholder": "​",
            "style": "IPY_MODEL_a247ec7d9b874781be4ba9502059d79b",
            "value": "Downloading (…)/main/tokenizer.json: 100%"
          }
        },
        "60d423e79f2446bbbc8854772b4bbdbb": {
          "model_module": "@jupyter-widgets/controls",
          "model_name": "FloatProgressModel",
          "model_module_version": "1.5.0",
          "state": {
            "_dom_classes": [],
            "_model_module": "@jupyter-widgets/controls",
            "_model_module_version": "1.5.0",
            "_model_name": "FloatProgressModel",
            "_view_count": null,
            "_view_module": "@jupyter-widgets/controls",
            "_view_module_version": "1.5.0",
            "_view_name": "ProgressView",
            "bar_style": "success",
            "description": "",
            "description_tooltip": null,
            "layout": "IPY_MODEL_4c2daf2fd13942ea87367a15d152ad04",
            "max": 1741727,
            "min": 0,
            "orientation": "horizontal",
            "style": "IPY_MODEL_abc98519e2384e2a9d837aa407994b28",
            "value": 1741727
          }
        },
        "f5ba09b8602f40b4b2e156f43e9750b6": {
          "model_module": "@jupyter-widgets/controls",
          "model_name": "HTMLModel",
          "model_module_version": "1.5.0",
          "state": {
            "_dom_classes": [],
            "_model_module": "@jupyter-widgets/controls",
            "_model_module_version": "1.5.0",
            "_model_name": "HTMLModel",
            "_view_count": null,
            "_view_module": "@jupyter-widgets/controls",
            "_view_module_version": "1.5.0",
            "_view_name": "HTMLView",
            "description": "",
            "description_tooltip": null,
            "layout": "IPY_MODEL_27075fbc41744ca8b9183d05eccf42d8",
            "placeholder": "​",
            "style": "IPY_MODEL_b1faafee490a4ba898431388352b2610",
            "value": " 1.74M/1.74M [00:00&lt;00:00, 42.4MB/s]"
          }
        },
        "c7d08c7746be4041893991d7d03f602d": {
          "model_module": "@jupyter-widgets/base",
          "model_name": "LayoutModel",
          "model_module_version": "1.2.0",
          "state": {
            "_model_module": "@jupyter-widgets/base",
            "_model_module_version": "1.2.0",
            "_model_name": "LayoutModel",
            "_view_count": null,
            "_view_module": "@jupyter-widgets/base",
            "_view_module_version": "1.2.0",
            "_view_name": "LayoutView",
            "align_content": null,
            "align_items": null,
            "align_self": null,
            "border": null,
            "bottom": null,
            "display": null,
            "flex": null,
            "flex_flow": null,
            "grid_area": null,
            "grid_auto_columns": null,
            "grid_auto_flow": null,
            "grid_auto_rows": null,
            "grid_column": null,
            "grid_gap": null,
            "grid_row": null,
            "grid_template_areas": null,
            "grid_template_columns": null,
            "grid_template_rows": null,
            "height": null,
            "justify_content": null,
            "justify_items": null,
            "left": null,
            "margin": null,
            "max_height": null,
            "max_width": null,
            "min_height": null,
            "min_width": null,
            "object_fit": null,
            "object_position": null,
            "order": null,
            "overflow": null,
            "overflow_x": null,
            "overflow_y": null,
            "padding": null,
            "right": null,
            "top": null,
            "visibility": null,
            "width": null
          }
        },
        "adeb097e66e54f0b86cd3fc6aa6d7ad1": {
          "model_module": "@jupyter-widgets/base",
          "model_name": "LayoutModel",
          "model_module_version": "1.2.0",
          "state": {
            "_model_module": "@jupyter-widgets/base",
            "_model_module_version": "1.2.0",
            "_model_name": "LayoutModel",
            "_view_count": null,
            "_view_module": "@jupyter-widgets/base",
            "_view_module_version": "1.2.0",
            "_view_name": "LayoutView",
            "align_content": null,
            "align_items": null,
            "align_self": null,
            "border": null,
            "bottom": null,
            "display": null,
            "flex": null,
            "flex_flow": null,
            "grid_area": null,
            "grid_auto_columns": null,
            "grid_auto_flow": null,
            "grid_auto_rows": null,
            "grid_column": null,
            "grid_gap": null,
            "grid_row": null,
            "grid_template_areas": null,
            "grid_template_columns": null,
            "grid_template_rows": null,
            "height": null,
            "justify_content": null,
            "justify_items": null,
            "left": null,
            "margin": null,
            "max_height": null,
            "max_width": null,
            "min_height": null,
            "min_width": null,
            "object_fit": null,
            "object_position": null,
            "order": null,
            "overflow": null,
            "overflow_x": null,
            "overflow_y": null,
            "padding": null,
            "right": null,
            "top": null,
            "visibility": null,
            "width": null
          }
        },
        "a247ec7d9b874781be4ba9502059d79b": {
          "model_module": "@jupyter-widgets/controls",
          "model_name": "DescriptionStyleModel",
          "model_module_version": "1.5.0",
          "state": {
            "_model_module": "@jupyter-widgets/controls",
            "_model_module_version": "1.5.0",
            "_model_name": "DescriptionStyleModel",
            "_view_count": null,
            "_view_module": "@jupyter-widgets/base",
            "_view_module_version": "1.2.0",
            "_view_name": "StyleView",
            "description_width": ""
          }
        },
        "4c2daf2fd13942ea87367a15d152ad04": {
          "model_module": "@jupyter-widgets/base",
          "model_name": "LayoutModel",
          "model_module_version": "1.2.0",
          "state": {
            "_model_module": "@jupyter-widgets/base",
            "_model_module_version": "1.2.0",
            "_model_name": "LayoutModel",
            "_view_count": null,
            "_view_module": "@jupyter-widgets/base",
            "_view_module_version": "1.2.0",
            "_view_name": "LayoutView",
            "align_content": null,
            "align_items": null,
            "align_self": null,
            "border": null,
            "bottom": null,
            "display": null,
            "flex": null,
            "flex_flow": null,
            "grid_area": null,
            "grid_auto_columns": null,
            "grid_auto_flow": null,
            "grid_auto_rows": null,
            "grid_column": null,
            "grid_gap": null,
            "grid_row": null,
            "grid_template_areas": null,
            "grid_template_columns": null,
            "grid_template_rows": null,
            "height": null,
            "justify_content": null,
            "justify_items": null,
            "left": null,
            "margin": null,
            "max_height": null,
            "max_width": null,
            "min_height": null,
            "min_width": null,
            "object_fit": null,
            "object_position": null,
            "order": null,
            "overflow": null,
            "overflow_x": null,
            "overflow_y": null,
            "padding": null,
            "right": null,
            "top": null,
            "visibility": null,
            "width": null
          }
        },
        "abc98519e2384e2a9d837aa407994b28": {
          "model_module": "@jupyter-widgets/controls",
          "model_name": "ProgressStyleModel",
          "model_module_version": "1.5.0",
          "state": {
            "_model_module": "@jupyter-widgets/controls",
            "_model_module_version": "1.5.0",
            "_model_name": "ProgressStyleModel",
            "_view_count": null,
            "_view_module": "@jupyter-widgets/base",
            "_view_module_version": "1.2.0",
            "_view_name": "StyleView",
            "bar_color": null,
            "description_width": ""
          }
        },
        "27075fbc41744ca8b9183d05eccf42d8": {
          "model_module": "@jupyter-widgets/base",
          "model_name": "LayoutModel",
          "model_module_version": "1.2.0",
          "state": {
            "_model_module": "@jupyter-widgets/base",
            "_model_module_version": "1.2.0",
            "_model_name": "LayoutModel",
            "_view_count": null,
            "_view_module": "@jupyter-widgets/base",
            "_view_module_version": "1.2.0",
            "_view_name": "LayoutView",
            "align_content": null,
            "align_items": null,
            "align_self": null,
            "border": null,
            "bottom": null,
            "display": null,
            "flex": null,
            "flex_flow": null,
            "grid_area": null,
            "grid_auto_columns": null,
            "grid_auto_flow": null,
            "grid_auto_rows": null,
            "grid_column": null,
            "grid_gap": null,
            "grid_row": null,
            "grid_template_areas": null,
            "grid_template_columns": null,
            "grid_template_rows": null,
            "height": null,
            "justify_content": null,
            "justify_items": null,
            "left": null,
            "margin": null,
            "max_height": null,
            "max_width": null,
            "min_height": null,
            "min_width": null,
            "object_fit": null,
            "object_position": null,
            "order": null,
            "overflow": null,
            "overflow_x": null,
            "overflow_y": null,
            "padding": null,
            "right": null,
            "top": null,
            "visibility": null,
            "width": null
          }
        },
        "b1faafee490a4ba898431388352b2610": {
          "model_module": "@jupyter-widgets/controls",
          "model_name": "DescriptionStyleModel",
          "model_module_version": "1.5.0",
          "state": {
            "_model_module": "@jupyter-widgets/controls",
            "_model_module_version": "1.5.0",
            "_model_name": "DescriptionStyleModel",
            "_view_count": null,
            "_view_module": "@jupyter-widgets/base",
            "_view_module_version": "1.2.0",
            "_view_name": "StyleView",
            "description_width": ""
          }
        },
        "ba87bad88fc747e5aa20ed167f5706d3": {
          "model_module": "@jupyter-widgets/controls",
          "model_name": "HBoxModel",
          "model_module_version": "1.5.0",
          "state": {
            "_dom_classes": [],
            "_model_module": "@jupyter-widgets/controls",
            "_model_module_version": "1.5.0",
            "_model_name": "HBoxModel",
            "_view_count": null,
            "_view_module": "@jupyter-widgets/controls",
            "_view_module_version": "1.5.0",
            "_view_name": "HBoxView",
            "box_style": "",
            "children": [
              "IPY_MODEL_135ab414d49b4fc69edc135034dedc45",
              "IPY_MODEL_92527e6a270b4d0ab48c307bc32108b3",
              "IPY_MODEL_920d59e236dd472cb8851c68905d06be"
            ],
            "layout": "IPY_MODEL_a40e51d3a58e4d43a4efeddb508598ef"
          }
        },
        "135ab414d49b4fc69edc135034dedc45": {
          "model_module": "@jupyter-widgets/controls",
          "model_name": "HTMLModel",
          "model_module_version": "1.5.0",
          "state": {
            "_dom_classes": [],
            "_model_module": "@jupyter-widgets/controls",
            "_model_module_version": "1.5.0",
            "_model_name": "HTMLModel",
            "_view_count": null,
            "_view_module": "@jupyter-widgets/controls",
            "_view_module_version": "1.5.0",
            "_view_name": "HTMLView",
            "description": "",
            "description_tooltip": null,
            "layout": "IPY_MODEL_d17f977152294d10b91397ead8a7c0a3",
            "placeholder": "​",
            "style": "IPY_MODEL_db24f321de744eb68f5a8bb97e3f4e5c",
            "value": "Downloading (…)cial_tokens_map.json: 100%"
          }
        },
        "92527e6a270b4d0ab48c307bc32108b3": {
          "model_module": "@jupyter-widgets/controls",
          "model_name": "FloatProgressModel",
          "model_module_version": "1.5.0",
          "state": {
            "_dom_classes": [],
            "_model_module": "@jupyter-widgets/controls",
            "_model_module_version": "1.5.0",
            "_model_name": "FloatProgressModel",
            "_view_count": null,
            "_view_module": "@jupyter-widgets/controls",
            "_view_module_version": "1.5.0",
            "_view_name": "ProgressView",
            "bar_style": "success",
            "description": "",
            "description_tooltip": null,
            "layout": "IPY_MODEL_9547b6e386a6474e9d56d64d86f87d94",
            "max": 112,
            "min": 0,
            "orientation": "horizontal",
            "style": "IPY_MODEL_635a5eca46a84fe5983f00792dcf7798",
            "value": 112
          }
        },
        "920d59e236dd472cb8851c68905d06be": {
          "model_module": "@jupyter-widgets/controls",
          "model_name": "HTMLModel",
          "model_module_version": "1.5.0",
          "state": {
            "_dom_classes": [],
            "_model_module": "@jupyter-widgets/controls",
            "_model_module_version": "1.5.0",
            "_model_name": "HTMLModel",
            "_view_count": null,
            "_view_module": "@jupyter-widgets/controls",
            "_view_module_version": "1.5.0",
            "_view_name": "HTMLView",
            "description": "",
            "description_tooltip": null,
            "layout": "IPY_MODEL_4f0426e4283649e983e18827831f4dd3",
            "placeholder": "​",
            "style": "IPY_MODEL_cff512aeeaca4004bb6761c31eae14b5",
            "value": " 112/112 [00:00&lt;00:00, 3.50kB/s]"
          }
        },
        "a40e51d3a58e4d43a4efeddb508598ef": {
          "model_module": "@jupyter-widgets/base",
          "model_name": "LayoutModel",
          "model_module_version": "1.2.0",
          "state": {
            "_model_module": "@jupyter-widgets/base",
            "_model_module_version": "1.2.0",
            "_model_name": "LayoutModel",
            "_view_count": null,
            "_view_module": "@jupyter-widgets/base",
            "_view_module_version": "1.2.0",
            "_view_name": "LayoutView",
            "align_content": null,
            "align_items": null,
            "align_self": null,
            "border": null,
            "bottom": null,
            "display": null,
            "flex": null,
            "flex_flow": null,
            "grid_area": null,
            "grid_auto_columns": null,
            "grid_auto_flow": null,
            "grid_auto_rows": null,
            "grid_column": null,
            "grid_gap": null,
            "grid_row": null,
            "grid_template_areas": null,
            "grid_template_columns": null,
            "grid_template_rows": null,
            "height": null,
            "justify_content": null,
            "justify_items": null,
            "left": null,
            "margin": null,
            "max_height": null,
            "max_width": null,
            "min_height": null,
            "min_width": null,
            "object_fit": null,
            "object_position": null,
            "order": null,
            "overflow": null,
            "overflow_x": null,
            "overflow_y": null,
            "padding": null,
            "right": null,
            "top": null,
            "visibility": null,
            "width": null
          }
        },
        "d17f977152294d10b91397ead8a7c0a3": {
          "model_module": "@jupyter-widgets/base",
          "model_name": "LayoutModel",
          "model_module_version": "1.2.0",
          "state": {
            "_model_module": "@jupyter-widgets/base",
            "_model_module_version": "1.2.0",
            "_model_name": "LayoutModel",
            "_view_count": null,
            "_view_module": "@jupyter-widgets/base",
            "_view_module_version": "1.2.0",
            "_view_name": "LayoutView",
            "align_content": null,
            "align_items": null,
            "align_self": null,
            "border": null,
            "bottom": null,
            "display": null,
            "flex": null,
            "flex_flow": null,
            "grid_area": null,
            "grid_auto_columns": null,
            "grid_auto_flow": null,
            "grid_auto_rows": null,
            "grid_column": null,
            "grid_gap": null,
            "grid_row": null,
            "grid_template_areas": null,
            "grid_template_columns": null,
            "grid_template_rows": null,
            "height": null,
            "justify_content": null,
            "justify_items": null,
            "left": null,
            "margin": null,
            "max_height": null,
            "max_width": null,
            "min_height": null,
            "min_width": null,
            "object_fit": null,
            "object_position": null,
            "order": null,
            "overflow": null,
            "overflow_x": null,
            "overflow_y": null,
            "padding": null,
            "right": null,
            "top": null,
            "visibility": null,
            "width": null
          }
        },
        "db24f321de744eb68f5a8bb97e3f4e5c": {
          "model_module": "@jupyter-widgets/controls",
          "model_name": "DescriptionStyleModel",
          "model_module_version": "1.5.0",
          "state": {
            "_model_module": "@jupyter-widgets/controls",
            "_model_module_version": "1.5.0",
            "_model_name": "DescriptionStyleModel",
            "_view_count": null,
            "_view_module": "@jupyter-widgets/base",
            "_view_module_version": "1.2.0",
            "_view_name": "StyleView",
            "description_width": ""
          }
        },
        "9547b6e386a6474e9d56d64d86f87d94": {
          "model_module": "@jupyter-widgets/base",
          "model_name": "LayoutModel",
          "model_module_version": "1.2.0",
          "state": {
            "_model_module": "@jupyter-widgets/base",
            "_model_module_version": "1.2.0",
            "_model_name": "LayoutModel",
            "_view_count": null,
            "_view_module": "@jupyter-widgets/base",
            "_view_module_version": "1.2.0",
            "_view_name": "LayoutView",
            "align_content": null,
            "align_items": null,
            "align_self": null,
            "border": null,
            "bottom": null,
            "display": null,
            "flex": null,
            "flex_flow": null,
            "grid_area": null,
            "grid_auto_columns": null,
            "grid_auto_flow": null,
            "grid_auto_rows": null,
            "grid_column": null,
            "grid_gap": null,
            "grid_row": null,
            "grid_template_areas": null,
            "grid_template_columns": null,
            "grid_template_rows": null,
            "height": null,
            "justify_content": null,
            "justify_items": null,
            "left": null,
            "margin": null,
            "max_height": null,
            "max_width": null,
            "min_height": null,
            "min_width": null,
            "object_fit": null,
            "object_position": null,
            "order": null,
            "overflow": null,
            "overflow_x": null,
            "overflow_y": null,
            "padding": null,
            "right": null,
            "top": null,
            "visibility": null,
            "width": null
          }
        },
        "635a5eca46a84fe5983f00792dcf7798": {
          "model_module": "@jupyter-widgets/controls",
          "model_name": "ProgressStyleModel",
          "model_module_version": "1.5.0",
          "state": {
            "_model_module": "@jupyter-widgets/controls",
            "_model_module_version": "1.5.0",
            "_model_name": "ProgressStyleModel",
            "_view_count": null,
            "_view_module": "@jupyter-widgets/base",
            "_view_module_version": "1.2.0",
            "_view_name": "StyleView",
            "bar_color": null,
            "description_width": ""
          }
        },
        "4f0426e4283649e983e18827831f4dd3": {
          "model_module": "@jupyter-widgets/base",
          "model_name": "LayoutModel",
          "model_module_version": "1.2.0",
          "state": {
            "_model_module": "@jupyter-widgets/base",
            "_model_module_version": "1.2.0",
            "_model_name": "LayoutModel",
            "_view_count": null,
            "_view_module": "@jupyter-widgets/base",
            "_view_module_version": "1.2.0",
            "_view_name": "LayoutView",
            "align_content": null,
            "align_items": null,
            "align_self": null,
            "border": null,
            "bottom": null,
            "display": null,
            "flex": null,
            "flex_flow": null,
            "grid_area": null,
            "grid_auto_columns": null,
            "grid_auto_flow": null,
            "grid_auto_rows": null,
            "grid_column": null,
            "grid_gap": null,
            "grid_row": null,
            "grid_template_areas": null,
            "grid_template_columns": null,
            "grid_template_rows": null,
            "height": null,
            "justify_content": null,
            "justify_items": null,
            "left": null,
            "margin": null,
            "max_height": null,
            "max_width": null,
            "min_height": null,
            "min_width": null,
            "object_fit": null,
            "object_position": null,
            "order": null,
            "overflow": null,
            "overflow_x": null,
            "overflow_y": null,
            "padding": null,
            "right": null,
            "top": null,
            "visibility": null,
            "width": null
          }
        },
        "cff512aeeaca4004bb6761c31eae14b5": {
          "model_module": "@jupyter-widgets/controls",
          "model_name": "DescriptionStyleModel",
          "model_module_version": "1.5.0",
          "state": {
            "_model_module": "@jupyter-widgets/controls",
            "_model_module_version": "1.5.0",
            "_model_name": "DescriptionStyleModel",
            "_view_count": null,
            "_view_module": "@jupyter-widgets/base",
            "_view_module_version": "1.2.0",
            "_view_name": "StyleView",
            "description_width": ""
          }
        },
        "e7d7583759dc4d7bbca1ad1966f54e10": {
          "model_module": "@jupyter-widgets/controls",
          "model_name": "HBoxModel",
          "model_module_version": "1.5.0",
          "state": {
            "_dom_classes": [],
            "_model_module": "@jupyter-widgets/controls",
            "_model_module_version": "1.5.0",
            "_model_name": "HBoxModel",
            "_view_count": null,
            "_view_module": "@jupyter-widgets/controls",
            "_view_module_version": "1.5.0",
            "_view_name": "HBoxView",
            "box_style": "",
            "children": [
              "IPY_MODEL_fc21644a4e3c41ae94fc3e60d4b34a8e",
              "IPY_MODEL_d7433e90f09645dc9bd931d91d39c23c",
              "IPY_MODEL_54e805cff92a4d29802de1cbc1c10645"
            ],
            "layout": "IPY_MODEL_0a01f5fe95f84d7b869fe2cc1dbb9a85"
          }
        },
        "fc21644a4e3c41ae94fc3e60d4b34a8e": {
          "model_module": "@jupyter-widgets/controls",
          "model_name": "HTMLModel",
          "model_module_version": "1.5.0",
          "state": {
            "_dom_classes": [],
            "_model_module": "@jupyter-widgets/controls",
            "_model_module_version": "1.5.0",
            "_model_name": "HTMLModel",
            "_view_count": null,
            "_view_module": "@jupyter-widgets/controls",
            "_view_module_version": "1.5.0",
            "_view_name": "HTMLView",
            "description": "",
            "description_tooltip": null,
            "layout": "IPY_MODEL_624403b5ab2346798f3409eed41aaf2b",
            "placeholder": "​",
            "style": "IPY_MODEL_4fe9ffa3f9904c7d82fc96788634785e",
            "value": "Downloading (…)lve/main/config.json: 100%"
          }
        },
        "d7433e90f09645dc9bd931d91d39c23c": {
          "model_module": "@jupyter-widgets/controls",
          "model_name": "FloatProgressModel",
          "model_module_version": "1.5.0",
          "state": {
            "_dom_classes": [],
            "_model_module": "@jupyter-widgets/controls",
            "_model_module_version": "1.5.0",
            "_model_name": "FloatProgressModel",
            "_view_count": null,
            "_view_module": "@jupyter-widgets/controls",
            "_view_module_version": "1.5.0",
            "_view_name": "ProgressView",
            "bar_style": "success",
            "description": "",
            "description_tooltip": null,
            "layout": "IPY_MODEL_b7fccb02da894156a54cf4536bf38bcb",
            "max": 1010,
            "min": 0,
            "orientation": "horizontal",
            "style": "IPY_MODEL_64496d90b65a4874b5dea1f393320a7c",
            "value": 1010
          }
        },
        "54e805cff92a4d29802de1cbc1c10645": {
          "model_module": "@jupyter-widgets/controls",
          "model_name": "HTMLModel",
          "model_module_version": "1.5.0",
          "state": {
            "_dom_classes": [],
            "_model_module": "@jupyter-widgets/controls",
            "_model_module_version": "1.5.0",
            "_model_name": "HTMLModel",
            "_view_count": null,
            "_view_module": "@jupyter-widgets/controls",
            "_view_module_version": "1.5.0",
            "_view_name": "HTMLView",
            "description": "",
            "description_tooltip": null,
            "layout": "IPY_MODEL_ba57be0209ac4576bcac9ca8fbca73c8",
            "placeholder": "​",
            "style": "IPY_MODEL_9f92fa886fea4176b096996272fde487",
            "value": " 1.01k/1.01k [00:00&lt;00:00, 32.3kB/s]"
          }
        },
        "0a01f5fe95f84d7b869fe2cc1dbb9a85": {
          "model_module": "@jupyter-widgets/base",
          "model_name": "LayoutModel",
          "model_module_version": "1.2.0",
          "state": {
            "_model_module": "@jupyter-widgets/base",
            "_model_module_version": "1.2.0",
            "_model_name": "LayoutModel",
            "_view_count": null,
            "_view_module": "@jupyter-widgets/base",
            "_view_module_version": "1.2.0",
            "_view_name": "LayoutView",
            "align_content": null,
            "align_items": null,
            "align_self": null,
            "border": null,
            "bottom": null,
            "display": null,
            "flex": null,
            "flex_flow": null,
            "grid_area": null,
            "grid_auto_columns": null,
            "grid_auto_flow": null,
            "grid_auto_rows": null,
            "grid_column": null,
            "grid_gap": null,
            "grid_row": null,
            "grid_template_areas": null,
            "grid_template_columns": null,
            "grid_template_rows": null,
            "height": null,
            "justify_content": null,
            "justify_items": null,
            "left": null,
            "margin": null,
            "max_height": null,
            "max_width": null,
            "min_height": null,
            "min_width": null,
            "object_fit": null,
            "object_position": null,
            "order": null,
            "overflow": null,
            "overflow_x": null,
            "overflow_y": null,
            "padding": null,
            "right": null,
            "top": null,
            "visibility": null,
            "width": null
          }
        },
        "624403b5ab2346798f3409eed41aaf2b": {
          "model_module": "@jupyter-widgets/base",
          "model_name": "LayoutModel",
          "model_module_version": "1.2.0",
          "state": {
            "_model_module": "@jupyter-widgets/base",
            "_model_module_version": "1.2.0",
            "_model_name": "LayoutModel",
            "_view_count": null,
            "_view_module": "@jupyter-widgets/base",
            "_view_module_version": "1.2.0",
            "_view_name": "LayoutView",
            "align_content": null,
            "align_items": null,
            "align_self": null,
            "border": null,
            "bottom": null,
            "display": null,
            "flex": null,
            "flex_flow": null,
            "grid_area": null,
            "grid_auto_columns": null,
            "grid_auto_flow": null,
            "grid_auto_rows": null,
            "grid_column": null,
            "grid_gap": null,
            "grid_row": null,
            "grid_template_areas": null,
            "grid_template_columns": null,
            "grid_template_rows": null,
            "height": null,
            "justify_content": null,
            "justify_items": null,
            "left": null,
            "margin": null,
            "max_height": null,
            "max_width": null,
            "min_height": null,
            "min_width": null,
            "object_fit": null,
            "object_position": null,
            "order": null,
            "overflow": null,
            "overflow_x": null,
            "overflow_y": null,
            "padding": null,
            "right": null,
            "top": null,
            "visibility": null,
            "width": null
          }
        },
        "4fe9ffa3f9904c7d82fc96788634785e": {
          "model_module": "@jupyter-widgets/controls",
          "model_name": "DescriptionStyleModel",
          "model_module_version": "1.5.0",
          "state": {
            "_model_module": "@jupyter-widgets/controls",
            "_model_module_version": "1.5.0",
            "_model_name": "DescriptionStyleModel",
            "_view_count": null,
            "_view_module": "@jupyter-widgets/base",
            "_view_module_version": "1.2.0",
            "_view_name": "StyleView",
            "description_width": ""
          }
        },
        "b7fccb02da894156a54cf4536bf38bcb": {
          "model_module": "@jupyter-widgets/base",
          "model_name": "LayoutModel",
          "model_module_version": "1.2.0",
          "state": {
            "_model_module": "@jupyter-widgets/base",
            "_model_module_version": "1.2.0",
            "_model_name": "LayoutModel",
            "_view_count": null,
            "_view_module": "@jupyter-widgets/base",
            "_view_module_version": "1.2.0",
            "_view_name": "LayoutView",
            "align_content": null,
            "align_items": null,
            "align_self": null,
            "border": null,
            "bottom": null,
            "display": null,
            "flex": null,
            "flex_flow": null,
            "grid_area": null,
            "grid_auto_columns": null,
            "grid_auto_flow": null,
            "grid_auto_rows": null,
            "grid_column": null,
            "grid_gap": null,
            "grid_row": null,
            "grid_template_areas": null,
            "grid_template_columns": null,
            "grid_template_rows": null,
            "height": null,
            "justify_content": null,
            "justify_items": null,
            "left": null,
            "margin": null,
            "max_height": null,
            "max_width": null,
            "min_height": null,
            "min_width": null,
            "object_fit": null,
            "object_position": null,
            "order": null,
            "overflow": null,
            "overflow_x": null,
            "overflow_y": null,
            "padding": null,
            "right": null,
            "top": null,
            "visibility": null,
            "width": null
          }
        },
        "64496d90b65a4874b5dea1f393320a7c": {
          "model_module": "@jupyter-widgets/controls",
          "model_name": "ProgressStyleModel",
          "model_module_version": "1.5.0",
          "state": {
            "_model_module": "@jupyter-widgets/controls",
            "_model_module_version": "1.5.0",
            "_model_name": "ProgressStyleModel",
            "_view_count": null,
            "_view_module": "@jupyter-widgets/base",
            "_view_module_version": "1.2.0",
            "_view_name": "StyleView",
            "bar_color": null,
            "description_width": ""
          }
        },
        "ba57be0209ac4576bcac9ca8fbca73c8": {
          "model_module": "@jupyter-widgets/base",
          "model_name": "LayoutModel",
          "model_module_version": "1.2.0",
          "state": {
            "_model_module": "@jupyter-widgets/base",
            "_model_module_version": "1.2.0",
            "_model_name": "LayoutModel",
            "_view_count": null,
            "_view_module": "@jupyter-widgets/base",
            "_view_module_version": "1.2.0",
            "_view_name": "LayoutView",
            "align_content": null,
            "align_items": null,
            "align_self": null,
            "border": null,
            "bottom": null,
            "display": null,
            "flex": null,
            "flex_flow": null,
            "grid_area": null,
            "grid_auto_columns": null,
            "grid_auto_flow": null,
            "grid_auto_rows": null,
            "grid_column": null,
            "grid_gap": null,
            "grid_row": null,
            "grid_template_areas": null,
            "grid_template_columns": null,
            "grid_template_rows": null,
            "height": null,
            "justify_content": null,
            "justify_items": null,
            "left": null,
            "margin": null,
            "max_height": null,
            "max_width": null,
            "min_height": null,
            "min_width": null,
            "object_fit": null,
            "object_position": null,
            "order": null,
            "overflow": null,
            "overflow_x": null,
            "overflow_y": null,
            "padding": null,
            "right": null,
            "top": null,
            "visibility": null,
            "width": null
          }
        },
        "9f92fa886fea4176b096996272fde487": {
          "model_module": "@jupyter-widgets/controls",
          "model_name": "DescriptionStyleModel",
          "model_module_version": "1.5.0",
          "state": {
            "_model_module": "@jupyter-widgets/controls",
            "_model_module_version": "1.5.0",
            "_model_name": "DescriptionStyleModel",
            "_view_count": null,
            "_view_module": "@jupyter-widgets/base",
            "_view_module_version": "1.2.0",
            "_view_name": "StyleView",
            "description_width": ""
          }
        },
        "271d82c71f4b4191988318c05690e443": {
          "model_module": "@jupyter-widgets/controls",
          "model_name": "HBoxModel",
          "model_module_version": "1.5.0",
          "state": {
            "_dom_classes": [],
            "_model_module": "@jupyter-widgets/controls",
            "_model_module_version": "1.5.0",
            "_model_name": "HBoxModel",
            "_view_count": null,
            "_view_module": "@jupyter-widgets/controls",
            "_view_module_version": "1.5.0",
            "_view_name": "HBoxView",
            "box_style": "",
            "children": [
              "IPY_MODEL_02a6074d5a084a7d90ceb87704061275",
              "IPY_MODEL_4cd8d4dc951e4651814a552f1920beae",
              "IPY_MODEL_63ec63e385d345eab62fca19a9690a0e"
            ],
            "layout": "IPY_MODEL_664009658f6142f0aa9e7df62b04c081"
          }
        },
        "02a6074d5a084a7d90ceb87704061275": {
          "model_module": "@jupyter-widgets/controls",
          "model_name": "HTMLModel",
          "model_module_version": "1.5.0",
          "state": {
            "_dom_classes": [],
            "_model_module": "@jupyter-widgets/controls",
            "_model_module_version": "1.5.0",
            "_model_name": "HTMLModel",
            "_view_count": null,
            "_view_module": "@jupyter-widgets/controls",
            "_view_module_version": "1.5.0",
            "_view_name": "HTMLView",
            "description": "",
            "description_tooltip": null,
            "layout": "IPY_MODEL_0b36f1ffe70a4490939f1d92761fc9ac",
            "placeholder": "​",
            "style": "IPY_MODEL_2f5051257b5d43ffbc4f01553fca12b6",
            "value": "Downloading model.safetensors: 100%"
          }
        },
        "4cd8d4dc951e4651814a552f1920beae": {
          "model_module": "@jupyter-widgets/controls",
          "model_name": "FloatProgressModel",
          "model_module_version": "1.5.0",
          "state": {
            "_dom_classes": [],
            "_model_module": "@jupyter-widgets/controls",
            "_model_module_version": "1.5.0",
            "_model_name": "FloatProgressModel",
            "_view_count": null,
            "_view_module": "@jupyter-widgets/controls",
            "_view_module_version": "1.5.0",
            "_view_name": "ProgressView",
            "bar_style": "success",
            "description": "",
            "description_tooltip": null,
            "layout": "IPY_MODEL_9216aac78f4c4c6fa5e42f28e39bfcef",
            "max": 116805624,
            "min": 0,
            "orientation": "horizontal",
            "style": "IPY_MODEL_0ea76d8ce79642df83049895c53f56c0",
            "value": 116805624
          }
        },
        "63ec63e385d345eab62fca19a9690a0e": {
          "model_module": "@jupyter-widgets/controls",
          "model_name": "HTMLModel",
          "model_module_version": "1.5.0",
          "state": {
            "_dom_classes": [],
            "_model_module": "@jupyter-widgets/controls",
            "_model_module_version": "1.5.0",
            "_model_name": "HTMLModel",
            "_view_count": null,
            "_view_module": "@jupyter-widgets/controls",
            "_view_module_version": "1.5.0",
            "_view_name": "HTMLView",
            "description": "",
            "description_tooltip": null,
            "layout": "IPY_MODEL_2e7580a4712345e091d28a71d8ac3fc5",
            "placeholder": "​",
            "style": "IPY_MODEL_e761295e0c634ef39b26a8510f2579eb",
            "value": " 117M/117M [00:02&lt;00:00, 59.0MB/s]"
          }
        },
        "664009658f6142f0aa9e7df62b04c081": {
          "model_module": "@jupyter-widgets/base",
          "model_name": "LayoutModel",
          "model_module_version": "1.2.0",
          "state": {
            "_model_module": "@jupyter-widgets/base",
            "_model_module_version": "1.2.0",
            "_model_name": "LayoutModel",
            "_view_count": null,
            "_view_module": "@jupyter-widgets/base",
            "_view_module_version": "1.2.0",
            "_view_name": "LayoutView",
            "align_content": null,
            "align_items": null,
            "align_self": null,
            "border": null,
            "bottom": null,
            "display": null,
            "flex": null,
            "flex_flow": null,
            "grid_area": null,
            "grid_auto_columns": null,
            "grid_auto_flow": null,
            "grid_auto_rows": null,
            "grid_column": null,
            "grid_gap": null,
            "grid_row": null,
            "grid_template_areas": null,
            "grid_template_columns": null,
            "grid_template_rows": null,
            "height": null,
            "justify_content": null,
            "justify_items": null,
            "left": null,
            "margin": null,
            "max_height": null,
            "max_width": null,
            "min_height": null,
            "min_width": null,
            "object_fit": null,
            "object_position": null,
            "order": null,
            "overflow": null,
            "overflow_x": null,
            "overflow_y": null,
            "padding": null,
            "right": null,
            "top": null,
            "visibility": null,
            "width": null
          }
        },
        "0b36f1ffe70a4490939f1d92761fc9ac": {
          "model_module": "@jupyter-widgets/base",
          "model_name": "LayoutModel",
          "model_module_version": "1.2.0",
          "state": {
            "_model_module": "@jupyter-widgets/base",
            "_model_module_version": "1.2.0",
            "_model_name": "LayoutModel",
            "_view_count": null,
            "_view_module": "@jupyter-widgets/base",
            "_view_module_version": "1.2.0",
            "_view_name": "LayoutView",
            "align_content": null,
            "align_items": null,
            "align_self": null,
            "border": null,
            "bottom": null,
            "display": null,
            "flex": null,
            "flex_flow": null,
            "grid_area": null,
            "grid_auto_columns": null,
            "grid_auto_flow": null,
            "grid_auto_rows": null,
            "grid_column": null,
            "grid_gap": null,
            "grid_row": null,
            "grid_template_areas": null,
            "grid_template_columns": null,
            "grid_template_rows": null,
            "height": null,
            "justify_content": null,
            "justify_items": null,
            "left": null,
            "margin": null,
            "max_height": null,
            "max_width": null,
            "min_height": null,
            "min_width": null,
            "object_fit": null,
            "object_position": null,
            "order": null,
            "overflow": null,
            "overflow_x": null,
            "overflow_y": null,
            "padding": null,
            "right": null,
            "top": null,
            "visibility": null,
            "width": null
          }
        },
        "2f5051257b5d43ffbc4f01553fca12b6": {
          "model_module": "@jupyter-widgets/controls",
          "model_name": "DescriptionStyleModel",
          "model_module_version": "1.5.0",
          "state": {
            "_model_module": "@jupyter-widgets/controls",
            "_model_module_version": "1.5.0",
            "_model_name": "DescriptionStyleModel",
            "_view_count": null,
            "_view_module": "@jupyter-widgets/base",
            "_view_module_version": "1.2.0",
            "_view_name": "StyleView",
            "description_width": ""
          }
        },
        "9216aac78f4c4c6fa5e42f28e39bfcef": {
          "model_module": "@jupyter-widgets/base",
          "model_name": "LayoutModel",
          "model_module_version": "1.2.0",
          "state": {
            "_model_module": "@jupyter-widgets/base",
            "_model_module_version": "1.2.0",
            "_model_name": "LayoutModel",
            "_view_count": null,
            "_view_module": "@jupyter-widgets/base",
            "_view_module_version": "1.2.0",
            "_view_name": "LayoutView",
            "align_content": null,
            "align_items": null,
            "align_self": null,
            "border": null,
            "bottom": null,
            "display": null,
            "flex": null,
            "flex_flow": null,
            "grid_area": null,
            "grid_auto_columns": null,
            "grid_auto_flow": null,
            "grid_auto_rows": null,
            "grid_column": null,
            "grid_gap": null,
            "grid_row": null,
            "grid_template_areas": null,
            "grid_template_columns": null,
            "grid_template_rows": null,
            "height": null,
            "justify_content": null,
            "justify_items": null,
            "left": null,
            "margin": null,
            "max_height": null,
            "max_width": null,
            "min_height": null,
            "min_width": null,
            "object_fit": null,
            "object_position": null,
            "order": null,
            "overflow": null,
            "overflow_x": null,
            "overflow_y": null,
            "padding": null,
            "right": null,
            "top": null,
            "visibility": null,
            "width": null
          }
        },
        "0ea76d8ce79642df83049895c53f56c0": {
          "model_module": "@jupyter-widgets/controls",
          "model_name": "ProgressStyleModel",
          "model_module_version": "1.5.0",
          "state": {
            "_model_module": "@jupyter-widgets/controls",
            "_model_module_version": "1.5.0",
            "_model_name": "ProgressStyleModel",
            "_view_count": null,
            "_view_module": "@jupyter-widgets/base",
            "_view_module_version": "1.2.0",
            "_view_name": "StyleView",
            "bar_color": null,
            "description_width": ""
          }
        },
        "2e7580a4712345e091d28a71d8ac3fc5": {
          "model_module": "@jupyter-widgets/base",
          "model_name": "LayoutModel",
          "model_module_version": "1.2.0",
          "state": {
            "_model_module": "@jupyter-widgets/base",
            "_model_module_version": "1.2.0",
            "_model_name": "LayoutModel",
            "_view_count": null,
            "_view_module": "@jupyter-widgets/base",
            "_view_module_version": "1.2.0",
            "_view_name": "LayoutView",
            "align_content": null,
            "align_items": null,
            "align_self": null,
            "border": null,
            "bottom": null,
            "display": null,
            "flex": null,
            "flex_flow": null,
            "grid_area": null,
            "grid_auto_columns": null,
            "grid_auto_flow": null,
            "grid_auto_rows": null,
            "grid_column": null,
            "grid_gap": null,
            "grid_row": null,
            "grid_template_areas": null,
            "grid_template_columns": null,
            "grid_template_rows": null,
            "height": null,
            "justify_content": null,
            "justify_items": null,
            "left": null,
            "margin": null,
            "max_height": null,
            "max_width": null,
            "min_height": null,
            "min_width": null,
            "object_fit": null,
            "object_position": null,
            "order": null,
            "overflow": null,
            "overflow_x": null,
            "overflow_y": null,
            "padding": null,
            "right": null,
            "top": null,
            "visibility": null,
            "width": null
          }
        },
        "e761295e0c634ef39b26a8510f2579eb": {
          "model_module": "@jupyter-widgets/controls",
          "model_name": "DescriptionStyleModel",
          "model_module_version": "1.5.0",
          "state": {
            "_model_module": "@jupyter-widgets/controls",
            "_model_module_version": "1.5.0",
            "_model_name": "DescriptionStyleModel",
            "_view_count": null,
            "_view_module": "@jupyter-widgets/base",
            "_view_module_version": "1.2.0",
            "_view_name": "StyleView",
            "description_width": ""
          }
        }
      }
    }
  },
  "nbformat": 4,
  "nbformat_minor": 0
}